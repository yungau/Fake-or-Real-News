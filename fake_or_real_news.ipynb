{
  "nbformat": 4,
  "nbformat_minor": 0,
  "metadata": {
    "colab": {
      "name": "fake_or_real_news.ipynb",
      "version": "0.3.2",
      "provenance": [],
      "collapsed_sections": []
    },
    "kernelspec": {
      "name": "python3",
      "display_name": "Python 3"
    },
    "accelerator": "GPU"
  },
  "cells": [
    {
      "cell_type": "markdown",
      "metadata": {
        "id": "6XGiLRccT2zC",
        "colab_type": "text"
      },
      "source": [
        "# Fake or Real News\n",
        "\n",
        "**Our goal is to build a model to spot real and fake news based on the news content.**\n",
        "\n",
        "[details](https://www.kaggle.com/rchitic17/real-or-fake#fake_or_real_news.csv)"
      ]
    },
    {
      "cell_type": "markdown",
      "metadata": {
        "id": "y1KvvkkpT_E0",
        "colab_type": "text"
      },
      "source": [
        "## Importing modules and data"
      ]
    },
    {
      "cell_type": "code",
      "metadata": {
        "id": "D6jNdNSeTjvq",
        "colab_type": "code",
        "colab": {}
      },
      "source": [
        "import pandas as pd\n",
        "import matplotlib.pyplot as plt\n",
        "import numpy as np\n",
        "import time\n",
        "from sklearn.model_selection import train_test_split\n",
        "\n",
        "import torch\n",
        "import torch.nn as nn\n",
        "from torch import optim\n",
        "import torch.nn.functional as F\n",
        "\n",
        "from torchtext.data import Field\n",
        "from torchtext.data import TabularDataset\n",
        "from torchtext.vocab import GloVe\n",
        "from torchtext.data import Iterator, BucketIterator"
      ],
      "execution_count": 0,
      "outputs": []
    },
    {
      "cell_type": "code",
      "metadata": {
        "id": "DPR0XlIEbdEU",
        "colab_type": "code",
        "colab": {}
      },
      "source": [
        "USE_CUDA = torch.cuda.is_available()\n",
        "device = torch.device(\"cuda\" if USE_CUDA else \"cpu\")"
      ],
      "execution_count": 0,
      "outputs": []
    },
    {
      "cell_type": "code",
      "metadata": {
        "id": "d5wRQMRsVTZS",
        "colab_type": "code",
        "colab": {
          "base_uri": "https://localhost:8080/",
          "height": 229
        },
        "outputId": "e31969b8-068f-464c-92cd-5de883722507"
      },
      "source": [
        "# Run this cell to mount your Google Drive.\n",
        "from google.colab import drive\n",
        "drive.mount('/content/drive')"
      ],
      "execution_count": 4,
      "outputs": [
        {
          "output_type": "stream",
          "text": [
            "Go to this URL in a browser: https://accounts.google.com/o/oauth2/auth?client_id=947318989803-6bn6qk8qdgf4n4g3pfee6491hc0brc4i.apps.googleusercontent.com&redirect_uri=urn%3Aietf%3Awg%3Aoauth%3A2.0%3Aoob&scope=email%20https%3A%2F%2Fwww.googleapis.com%2Fauth%2Fdocs.test%20https%3A%2F%2Fwww.googleapis.com%2Fauth%2Fdrive%20https%3A%2F%2Fwww.googleapis.com%2Fauth%2Fdrive.photos.readonly%20https%3A%2F%2Fwww.googleapis.com%2Fauth%2Fpeopleapi.readonly&response_type=code\n",
            "\n",
            "Enter your authorization code:\n",
            "··········\n",
            "Mounted at /content/drive\n"
          ],
          "name": "stdout"
        }
      ]
    },
    {
      "cell_type": "markdown",
      "metadata": {
        "id": "XBRUh0TUqu8G",
        "colab_type": "text"
      },
      "source": [
        "## Exploring the data"
      ]
    },
    {
      "cell_type": "code",
      "metadata": {
        "id": "8oejS97rUNaO",
        "colab_type": "code",
        "colab": {}
      },
      "source": [
        "df = pd.read_csv('/content/drive/My Drive/Colab Notebooks/fake_or_real_news.csv')"
      ],
      "execution_count": 0,
      "outputs": []
    },
    {
      "cell_type": "code",
      "metadata": {
        "id": "Cvrw9k92VnuH",
        "colab_type": "code",
        "colab": {
          "base_uri": "https://localhost:8080/",
          "height": 473
        },
        "outputId": "e12741f1-3086-4dbb-cfc4-3383a8adef7a"
      },
      "source": [
        "df.head()"
      ],
      "execution_count": 116,
      "outputs": [
        {
          "output_type": "execute_result",
          "data": {
            "text/html": [
              "<div>\n",
              "<style scoped>\n",
              "    .dataframe tbody tr th:only-of-type {\n",
              "        vertical-align: middle;\n",
              "    }\n",
              "\n",
              "    .dataframe tbody tr th {\n",
              "        vertical-align: top;\n",
              "    }\n",
              "\n",
              "    .dataframe thead th {\n",
              "        text-align: right;\n",
              "    }\n",
              "</style>\n",
              "<table border=\"1\" class=\"dataframe\">\n",
              "  <thead>\n",
              "    <tr style=\"text-align: right;\">\n",
              "      <th></th>\n",
              "      <th>Unnamed: 0</th>\n",
              "      <th>title</th>\n",
              "      <th>text</th>\n",
              "      <th>label</th>\n",
              "    </tr>\n",
              "  </thead>\n",
              "  <tbody>\n",
              "    <tr>\n",
              "      <th>0</th>\n",
              "      <td>8476</td>\n",
              "      <td>You Can Smell Hillary’s Fear</td>\n",
              "      <td>Daniel Greenfield, a Shillman Journalism Fello...</td>\n",
              "      <td>FAKE</td>\n",
              "    </tr>\n",
              "    <tr>\n",
              "      <th>1</th>\n",
              "      <td>10294</td>\n",
              "      <td>Watch The Exact Moment Paul Ryan Committed Pol...</td>\n",
              "      <td>Google Pinterest Digg Linkedin Reddit Stumbleu...</td>\n",
              "      <td>FAKE</td>\n",
              "    </tr>\n",
              "    <tr>\n",
              "      <th>2</th>\n",
              "      <td>3608</td>\n",
              "      <td>Kerry to go to Paris in gesture of sympathy</td>\n",
              "      <td>U.S. Secretary of State John F. Kerry said Mon...</td>\n",
              "      <td>REAL</td>\n",
              "    </tr>\n",
              "    <tr>\n",
              "      <th>3</th>\n",
              "      <td>10142</td>\n",
              "      <td>Bernie supporters on Twitter erupt in anger ag...</td>\n",
              "      <td>— Kaydee King (@KaydeeKing) November 9, 2016 T...</td>\n",
              "      <td>FAKE</td>\n",
              "    </tr>\n",
              "    <tr>\n",
              "      <th>4</th>\n",
              "      <td>875</td>\n",
              "      <td>The Battle of New York: Why This Primary Matters</td>\n",
              "      <td>It's primary day in New York and front-runners...</td>\n",
              "      <td>REAL</td>\n",
              "    </tr>\n",
              "  </tbody>\n",
              "</table>\n",
              "</div>"
            ],
            "text/plain": [
              "   Unnamed: 0  ... label\n",
              "0        8476  ...  FAKE\n",
              "1       10294  ...  FAKE\n",
              "2        3608  ...  REAL\n",
              "3       10142  ...  FAKE\n",
              "4         875  ...  REAL\n",
              "\n",
              "[5 rows x 4 columns]"
            ]
          },
          "metadata": {
            "tags": []
          },
          "execution_count": 116
        }
      ]
    },
    {
      "cell_type": "code",
      "metadata": {
        "id": "KUQLvSckV00M",
        "colab_type": "code",
        "colab": {
          "base_uri": "https://localhost:8080/",
          "height": 376
        },
        "outputId": "76d55926-db9d-454e-8db8-2e0cd53d6311"
      },
      "source": [
        "df.info()"
      ],
      "execution_count": 117,
      "outputs": [
        {
          "output_type": "stream",
          "text": [
            "<class 'pandas.core.frame.DataFrame'>\n",
            "RangeIndex: 6335 entries, 0 to 6334\n",
            "Data columns (total 4 columns):\n",
            "Unnamed: 0    6335 non-null int64\n",
            "title         6335 non-null object\n",
            "text          6335 non-null object\n",
            "label         6335 non-null object\n",
            "dtypes: int64(1), object(3)\n",
            "memory usage: 198.0+ KB\n"
          ],
          "name": "stdout"
        }
      ]
    },
    {
      "cell_type": "code",
      "metadata": {
        "id": "slcnuHShV3Xs",
        "colab_type": "code",
        "colab": {
          "base_uri": "https://localhost:8080/",
          "height": 305
        },
        "outputId": "2022cc6f-3033-4985-b2d3-417276561d67"
      },
      "source": [
        "df.isna().sum()"
      ],
      "execution_count": 118,
      "outputs": [
        {
          "output_type": "execute_result",
          "data": {
            "text/plain": [
              "Unnamed: 0    0\n",
              "title         0\n",
              "text          0\n",
              "label         0\n",
              "dtype: int64"
            ]
          },
          "metadata": {
            "tags": []
          },
          "execution_count": 118
        }
      ]
    },
    {
      "cell_type": "code",
      "metadata": {
        "id": "f3zp4Ow8V7Pu",
        "colab_type": "code",
        "colab": {
          "base_uri": "https://localhost:8080/",
          "height": 236
        },
        "outputId": "c622460a-4e8a-4a64-e2b9-bcb5db59ba7d"
      },
      "source": [
        "df.label.unique()"
      ],
      "execution_count": 119,
      "outputs": [
        {
          "output_type": "execute_result",
          "data": {
            "text/plain": [
              "array(['FAKE', 'REAL'], dtype=object)"
            ]
          },
          "metadata": {
            "tags": []
          },
          "execution_count": 119
        }
      ]
    },
    {
      "cell_type": "code",
      "metadata": {
        "id": "Y0o4493ZWBI1",
        "colab_type": "code",
        "colab": {
          "base_uri": "https://localhost:8080/",
          "height": 252
        },
        "outputId": "d24edc25-507f-4f6f-dcdf-27bf08fc866f"
      },
      "source": [
        "print('Numbers of fake news: ', (df.label == 'FAKE').sum())\n",
        "print('Numbers of real news: ', (df.label == 'REAL').sum())"
      ],
      "execution_count": 120,
      "outputs": [
        {
          "output_type": "stream",
          "text": [
            "Numbers of fake news:  3164\n",
            "Numbers of real news:  3171\n"
          ],
          "name": "stdout"
        }
      ]
    },
    {
      "cell_type": "code",
      "metadata": {
        "id": "C7jHBoJ5_B0z",
        "colab_type": "code",
        "colab": {}
      },
      "source": [
        "df['numbers_of_word'] = df.text.apply(str.split).apply(len)"
      ],
      "execution_count": 0,
      "outputs": []
    },
    {
      "cell_type": "code",
      "metadata": {
        "id": "_MOMGqMy_MB_",
        "colab_type": "code",
        "colab": {
          "base_uri": "https://localhost:8080/",
          "height": 376
        },
        "outputId": "1c19195e-6e11-40a6-de24-af1aa20c5c52"
      },
      "source": [
        "df.numbers_of_word.describe()"
      ],
      "execution_count": 122,
      "outputs": [
        {
          "output_type": "execute_result",
          "data": {
            "text/plain": [
              "count     6335.000000\n",
              "mean       776.300710\n",
              "std        854.333358\n",
              "min          0.000000\n",
              "25%        289.000000\n",
              "50%        597.000000\n",
              "75%       1024.000000\n",
              "max      20891.000000\n",
              "Name: numbers_of_word, dtype: float64"
            ]
          },
          "metadata": {
            "tags": []
          },
          "execution_count": 122
        }
      ]
    },
    {
      "cell_type": "markdown",
      "metadata": {
        "id": "lnXJnHCVSch1",
        "colab_type": "text"
      },
      "source": [
        "## Data preparation"
      ]
    },
    {
      "cell_type": "markdown",
      "metadata": {
        "id": "n5xr3z0y37cF",
        "colab_type": "text"
      },
      "source": [
        "We are going to prepare the data to feed our model using torchtext."
      ]
    },
    {
      "cell_type": "code",
      "metadata": {
        "id": "YSmrARtbcu9A",
        "colab_type": "code",
        "colab": {}
      },
      "source": [
        "tokenize = lambda x: x.split()\n",
        "TEXT = Field(sequential=True, tokenize=tokenize, lower=True)\n",
        "LABEL = Field(sequential=False, use_vocab=True)"
      ],
      "execution_count": 0,
      "outputs": []
    },
    {
      "cell_type": "code",
      "metadata": {
        "id": "BsLy8D1ZRR0K",
        "colab_type": "code",
        "colab": {}
      },
      "source": [
        "csv_datafields = [(\"Unnamed: 0\", None),\n",
        "                 (\"title\", TEXT),\n",
        "                 (\"text\", TEXT),\n",
        "                 (\"label\", LABEL)\n",
        "                 ]\n",
        "trainData = TabularDataset(path=\"/content/drive/My Drive/Colab Notebooks/fake_or_real_news.csv\",\n",
        "                           format='csv',\n",
        "                           skip_header=True,\n",
        "                           fields=csv_datafields,         \n",
        "                           )\n",
        "trainData, valData, testData = trainData.split(split_ratio=[0.7, 0.2, 0.1])"
      ],
      "execution_count": 0,
      "outputs": []
    },
    {
      "cell_type": "code",
      "metadata": {
        "id": "u1_VTA3eVoTH",
        "colab_type": "code",
        "colab": {
          "base_uri": "https://localhost:8080/",
          "height": 1000
        },
        "outputId": "d73f29a7-ed4e-41ed-b3e9-be96d4be09e9"
      },
      "source": [
        "# build the vocabulary\n",
        "vectors = GloVe(name='6B', dim=300)\n",
        "TEXT.build_vocab(trainData, vectors=GloVe(name='6B', dim=300))\n",
        "LABEL.build_vocab(trainData)"
      ],
      "execution_count": 8,
      "outputs": [
        {
          "output_type": "stream",
          "text": [
            ".vector_cache/glove.6B.zip: 862MB [00:47, 18.0MB/s]                           \n",
            "100%|█████████▉| 399200/400000 [00:39<00:00, 10042.21it/s]"
          ],
          "name": "stderr"
        }
      ]
    },
    {
      "cell_type": "code",
      "metadata": {
        "id": "W9osPmFfUUjM",
        "colab_type": "code",
        "colab": {}
      },
      "source": [
        " train_loader, val_loader = BucketIterator.splits(\n",
        "                              (trainData, valData),\n",
        "                               batch_size=64,\n",
        "                               device=device,\n",
        "                               sort_key=lambda x: len(x.text), # the function used to group the data.\n",
        "                               sort_within_batch=False,\n",
        "                               repeat=False,\n",
        "                            )\n",
        "test_loader = Iterator(testData, batch_size=64, device=device, sort=False, sort_within_batch=False, repeat=False)\n"
      ],
      "execution_count": 0,
      "outputs": []
    },
    {
      "cell_type": "markdown",
      "metadata": {
        "id": "Fc6dhzReSIcZ",
        "colab_type": "text"
      },
      "source": [
        "## Building model"
      ]
    },
    {
      "cell_type": "markdown",
      "metadata": {
        "id": "Ya6_OFsA06tj",
        "colab_type": "text"
      },
      "source": [
        "We are going to build a bidirectional LSTM model with attention mechanism."
      ]
    },
    {
      "cell_type": "code",
      "metadata": {
        "id": "qZabwtY-QGFU",
        "colab_type": "code",
        "colab": {}
      },
      "source": [
        "weight_matrix = TEXT.vocab.vectors\n",
        "class LSTMwAttn(nn.Module):\n",
        "    def __init__(self, \n",
        "                 vocab_num, \n",
        "                 hidden_size, \n",
        "                 output_size, \n",
        "                 num_layers=1, \n",
        "                 dropout=0.2,\n",
        "                 bidirectional=True,\n",
        "                 embed_size=weight_matrix.size(1),\n",
        "                 attention=True):\n",
        "        super(LSTMwAttn, self).__init__()\n",
        "        \n",
        "        self.vocab_num = vocab_num\n",
        "        self.embed_size = embed_size\n",
        "        self.hidden_size = hidden_size\n",
        "        self.num_layers = num_layers\n",
        "        self.bidirectional = bidirectional\n",
        "        num_directions = 2 if bidirectional else 1\n",
        "        self.num_directions = num_directions\n",
        "        self.attention = attention\n",
        "        \n",
        "        self.embedding = nn.Embedding(vocab_num, embed_size)\n",
        "        self.embedding.weight = nn.Parameter(weight_matrix.clone().detach(), requires_grad=True)\n",
        "\n",
        "        self.rnn = nn.LSTM(embed_size, \n",
        "                           hidden_size, \n",
        "                           num_layers, \n",
        "                           dropout=0 if num_layers == 1 else dropout, \n",
        "                           bidirectional=bidirectional)\n",
        "      \n",
        "        self.attn = nn.Linear(hidden_size*num_layers*num_directions, 1)\n",
        "        self.decoder = nn.Linear(hidden_size*num_layers*num_directions, output_size)\n",
        "        \n",
        "    def forward(self, x, hidden=None):\n",
        "        # shape of x: seq_num x batch_size\n",
        "        embedded = self.embedding(x)\n",
        "        # shape of embedded : seq_num x batch_size x embed_size\n",
        "        rnn_outputs, (hidden, cell) = self.rnn(embedded, hidden)\n",
        "        # shape of rnn_outputs: seq_num x batch_size x (hidden_size x num_layers x num_directions)\n",
        "        # shape of hidden: (num_layers x num_directions) x batch_size x hidden_size\n",
        "        # shape of cell: (num_layers x num_directions) x batch_size x hidden_size\n",
        "        if self.attention:\n",
        "            attn_weights = F.softmax(torch.sigmoid(self.attn(rnn_outputs)), dim=0)\n",
        "            # shape of attn_weights: seq_num x batch_size x 1\n",
        "            attn_applied = attn_weights * rnn_outputs\n",
        "            # shape of attn_applied: seq_num x batch_size x (hidden_size x num_layers x num_directions)\n",
        "            weighted_sum = attn_applied.sum(0)\n",
        "            # shape of weighted_sum: batch_size x (hidden_size x num_layers x num_directions)\n",
        "            outputs = self.decoder(weighted_sum)\n",
        "            # shape of outputs: batch_size x output_size\n",
        "        else:\n",
        "            outputs = self.decoder(hidden.reshape(hidden.size(1), -1))\n",
        "            # shape of outputs: batch_size x output_size\n",
        "        return outputs\n",
        "      \n",
        "    def initHidden(self, batch_size):\n",
        "        return (torch.zeros(self.num_layers * self.num_directions, batch_size, self.hidden_size, device=device),\n",
        "                torch.zeros(self.num_layers * self.num_directions, batch_size, self.hidden_size, device=device))"
      ],
      "execution_count": 0,
      "outputs": []
    },
    {
      "cell_type": "code",
      "metadata": {
        "id": "KmbDg0bMq81A",
        "colab_type": "code",
        "colab": {
          "base_uri": "https://localhost:8080/",
          "height": 284
        },
        "outputId": "003dd03f-0877-4dd6-cdad-0aca0b556a91"
      },
      "source": [
        "LSTM_HIDDEN_SIZE = 5\n",
        "OUTPUR_SIZE = len(set(trainData.label))\n",
        "model = LSTMwAttn(len(TEXT.vocab), LSTM_HIDDEN_SIZE, OUTPUR_SIZE).to(device)\n",
        "model"
      ],
      "execution_count": 175,
      "outputs": [
        {
          "output_type": "execute_result",
          "data": {
            "text/plain": [
              "LSTMwAttn(\n",
              "  (embedding): Embedding(160263, 300)\n",
              "  (rnn): LSTM(300, 5, bidirectional=True)\n",
              "  (attn): Linear(in_features=10, out_features=1, bias=True)\n",
              "  (decoder): Linear(in_features=10, out_features=2, bias=True)\n",
              ")"
            ]
          },
          "metadata": {
            "tags": []
          },
          "execution_count": 175
        }
      ]
    },
    {
      "cell_type": "markdown",
      "metadata": {
        "id": "FIHJ9H17SMxF",
        "colab_type": "text"
      },
      "source": [
        "## Model training"
      ]
    },
    {
      "cell_type": "markdown",
      "metadata": {
        "id": "qFCPdBBE6RFj",
        "colab_type": "text"
      },
      "source": [
        "### Optimizer and loss function"
      ]
    },
    {
      "cell_type": "code",
      "metadata": {
        "id": "ij62WiIWmlTb",
        "colab_type": "code",
        "colab": {}
      },
      "source": [
        "optimizer = optim.Adam(model.parameters(), lr=0.001, betas=(0.9, 0.999))\n",
        "criterion = F.cross_entropy"
      ],
      "execution_count": 0,
      "outputs": []
    },
    {
      "cell_type": "markdown",
      "metadata": {
        "id": "QjOLlQ616WT0",
        "colab_type": "text"
      },
      "source": [
        "### Training and testing function"
      ]
    },
    {
      "cell_type": "code",
      "metadata": {
        "id": "MYbVxbd1v50B",
        "colab_type": "code",
        "colab": {}
      },
      "source": [
        "def trainModel(data_loader, criterion, optimizer, train_losses=[], train_accuracies = []):\n",
        "    model.train()\n",
        "    losses = []\n",
        "    accuracies = []\n",
        "    for bach_idx, sample in enumerate(data_loader):\n",
        "        optimizer.zero_grad()\n",
        "        prediction = model(sample.text)\n",
        "        target = sample.label - 1\n",
        "        loss = criterion(prediction, target)\n",
        "        loss.backward()\n",
        "        optimizer.step()\n",
        "        losses.append(loss.item())\n",
        "        pred_class = torch.argmax(prediction, dim=1)\n",
        "        accuracy = ((pred_class - target) == 0).sum().item() / target.size(0)\n",
        "        accuracies.append(accuracy)\n",
        "    train_losses.append(np.mean(losses))\n",
        "    train_accuracies.append(np.mean(accuracies))\n",
        "    print('\\nEpoch: {}/{}\\nTraining Loss: {:.4f}\\tTraining Categorical Accuracy: {:.4f}\\t'\n",
        "          .format(epoch+1, NUM_EPOCHS, train_losses[-1], train_accuracies[-1]))\n",
        "    return train_losses, train_accuracies\n",
        "  \n",
        "def testModel(data_loader, criterion, val, val_losses=[], val_accuracies=[]):\n",
        "    model.eval()\n",
        "    losses = []\n",
        "    accuracies = []\n",
        "    for sample in data_loader:\n",
        "        with torch.no_grad(): prediction = model(sample.text)\n",
        "        target = sample.label - 1\n",
        "        loss = criterion(prediction, target)\n",
        "        losses.append(loss.item())\n",
        "        pred_class = torch.argmax(prediction, dim=1)\n",
        "        accuracy = ((pred_class - target) == 0).sum().item() / target.size(0)\n",
        "        accuracies.append(accuracy)\n",
        "    if val:\n",
        "        val_losses.append(np.mean(losses))\n",
        "        val_accuracies.append(np.mean(accuracies))\n",
        "        print('Validation Loss: {:.4f}\\tValidation Categorical Accuracy: {:.4f}'\n",
        "              .format(val_losses[-1], val_accuracies[-1]))\n",
        "        return val_losses[-1], val_accuracies[-1], val_losses, val_accuracies\n",
        "    return np.mean(losses), np.mean(accuracies)"
      ],
      "execution_count": 0,
      "outputs": []
    },
    {
      "cell_type": "code",
      "metadata": {
        "id": "ppWvPlzZyARW",
        "colab_type": "code",
        "colab": {}
      },
      "source": [
        "def saveModel(maxAcc, val_acc, val_loss):\n",
        "    if val_acc > maxAcc:\n",
        "        torch.save({\n",
        "            'model_state_dict': model.state_dict(),\n",
        "            'loss': val_loss,\n",
        "            'accuracy': val_acc,\n",
        "            }, PATH)\n",
        "        print('Validation accuracy increased from {:5f} to {:5f}, saving model to {}'.format(maxAcc, val_acc, PATH))\n",
        "        return val_acc\n",
        "    return maxAcc"
      ],
      "execution_count": 0,
      "outputs": []
    },
    {
      "cell_type": "markdown",
      "metadata": {
        "id": "tpuVusbqSCpk",
        "colab_type": "text"
      },
      "source": [
        "### Training loop"
      ]
    },
    {
      "cell_type": "code",
      "metadata": {
        "id": "XTbQSFrbk5WG",
        "colab_type": "code",
        "colab": {
          "base_uri": "https://localhost:8080/",
          "height": 1000
        },
        "outputId": "00c7ff3e-08b5-4516-e23b-197aa61c1cad"
      },
      "source": [
        "%%time\n",
        "NUM_EPOCHS = 20\n",
        "maxAcc = 0\n",
        "PATH = './attnLSTM_best.pth'\n",
        "print('Train on {} samples, validate on {} samples'.format(len(train_loader.dataset), len(val_loader.dataset)))\n",
        "train_losses,train_accuracies = [], []\n",
        "val_losses, val_accuracies = [], []\n",
        "for epoch in range(NUM_EPOCHS):\n",
        "    train_losses, train_accuracies = trainModel(train_loader, criterion, optimizer, train_losses, train_accuracies)\n",
        "    val_loss, val_acc, val_losses, val_accuracies = testModel(val_loader, criterion, True, val_losses, val_accuracies)\n",
        "    maxAcc = saveModel(maxAcc, val_acc, val_loss)"
      ],
      "execution_count": 179,
      "outputs": [
        {
          "output_type": "stream",
          "text": [
            "Train on 4434 samples, validate on 634 samples\n",
            "\n",
            "Epoch: 1/20\n",
            "Training Loss: 0.6844\tTraining Categorical Accuracy: 0.5892\t\n",
            "Validation Loss: 0.7104\tValidation Categorical Accuracy: 0.4759\n",
            "Validation accuracy increased from 0.000000 to 0.475916, saving model to ./attnLSTM_best.pth\n",
            "\n",
            "Epoch: 2/20\n",
            "Training Loss: 0.6515\tTraining Categorical Accuracy: 0.6834\t\n",
            "Validation Loss: 0.5901\tValidation Categorical Accuracy: 0.6435\n",
            "Validation accuracy increased from 0.475916 to 0.643534, saving model to ./attnLSTM_best.pth\n",
            "\n",
            "Epoch: 3/20\n",
            "Training Loss: 0.5292\tTraining Categorical Accuracy: 0.8431\t\n",
            "Validation Loss: 0.3764\tValidation Categorical Accuracy: 0.8695\n",
            "Validation accuracy increased from 0.643534 to 0.869504, saving model to ./attnLSTM_best.pth\n",
            "\n",
            "Epoch: 4/20\n",
            "Training Loss: 0.3781\tTraining Categorical Accuracy: 0.8907\t\n",
            "Validation Loss: 0.2488\tValidation Categorical Accuracy: 0.9226\n",
            "Validation accuracy increased from 0.869504 to 0.922629, saving model to ./attnLSTM_best.pth\n",
            "\n",
            "Epoch: 5/20\n",
            "Training Loss: 0.2107\tTraining Categorical Accuracy: 0.9478\t\n",
            "Validation Loss: 0.1907\tValidation Categorical Accuracy: 0.9306\n",
            "Validation accuracy increased from 0.922629 to 0.930603, saving model to ./attnLSTM_best.pth\n",
            "\n",
            "Epoch: 6/20\n",
            "Training Loss: 0.0430\tTraining Categorical Accuracy: 0.9913\t\n",
            "Validation Loss: 0.2305\tValidation Categorical Accuracy: 0.9167\n",
            "\n",
            "Epoch: 7/20\n",
            "Training Loss: 0.0261\tTraining Categorical Accuracy: 0.9971\t\n",
            "Validation Loss: 0.2076\tValidation Categorical Accuracy: 0.9308\n",
            "Validation accuracy increased from 0.930603 to 0.930765, saving model to ./attnLSTM_best.pth\n",
            "\n",
            "Epoch: 8/20\n",
            "Training Loss: 0.0186\tTraining Categorical Accuracy: 0.9982\t\n",
            "Validation Loss: 0.2179\tValidation Categorical Accuracy: 0.9292\n",
            "\n",
            "Epoch: 9/20\n",
            "Training Loss: 0.0151\tTraining Categorical Accuracy: 0.9987\t\n",
            "Validation Loss: 0.2255\tValidation Categorical Accuracy: 0.9308\n",
            "\n",
            "Epoch: 10/20\n",
            "Training Loss: 0.0112\tTraining Categorical Accuracy: 0.9993\t\n",
            "Validation Loss: 0.2319\tValidation Categorical Accuracy: 0.9230\n",
            "\n",
            "Epoch: 11/20\n",
            "Training Loss: 0.0094\tTraining Categorical Accuracy: 0.9993\t\n",
            "Validation Loss: 0.2391\tValidation Categorical Accuracy: 0.9198\n",
            "\n",
            "Epoch: 12/20\n",
            "Training Loss: 0.0074\tTraining Categorical Accuracy: 0.9993\t\n",
            "Validation Loss: 0.2765\tValidation Categorical Accuracy: 0.9214\n",
            "\n",
            "Epoch: 13/20\n",
            "Training Loss: 0.0048\tTraining Categorical Accuracy: 0.9998\t\n",
            "Validation Loss: 0.2557\tValidation Categorical Accuracy: 0.9245\n",
            "\n",
            "Epoch: 14/20\n",
            "Training Loss: 0.0054\tTraining Categorical Accuracy: 0.9996\t\n",
            "Validation Loss: 0.2612\tValidation Categorical Accuracy: 0.9230\n",
            "\n",
            "Epoch: 15/20\n",
            "Training Loss: 0.0040\tTraining Categorical Accuracy: 0.9998\t\n",
            "Validation Loss: 0.2622\tValidation Categorical Accuracy: 0.9230\n",
            "\n",
            "Epoch: 16/20\n",
            "Training Loss: 0.0036\tTraining Categorical Accuracy: 0.9998\t\n",
            "Validation Loss: 0.2712\tValidation Categorical Accuracy: 0.9230\n",
            "\n",
            "Epoch: 17/20\n",
            "Training Loss: 0.0032\tTraining Categorical Accuracy: 0.9998\t\n",
            "Validation Loss: 0.2701\tValidation Categorical Accuracy: 0.9230\n",
            "\n",
            "Epoch: 18/20\n",
            "Training Loss: 0.0029\tTraining Categorical Accuracy: 0.9998\t\n",
            "Validation Loss: 0.2656\tValidation Categorical Accuracy: 0.9245\n",
            "\n",
            "Epoch: 19/20\n",
            "Training Loss: 0.0025\tTraining Categorical Accuracy: 0.9996\t\n",
            "Validation Loss: 0.2772\tValidation Categorical Accuracy: 0.9228\n",
            "\n",
            "Epoch: 20/20\n",
            "Training Loss: 0.0026\tTraining Categorical Accuracy: 0.9996\t\n",
            "Validation Loss: 0.2702\tValidation Categorical Accuracy: 0.9261\n",
            "CPU times: user 10min 20s, sys: 1min 39s, total: 12min\n",
            "Wall time: 12min 2s\n"
          ],
          "name": "stdout"
        }
      ]
    },
    {
      "cell_type": "markdown",
      "metadata": {
        "id": "74LA-sxp54eh",
        "colab_type": "text"
      },
      "source": [
        "## Model evaulation"
      ]
    },
    {
      "cell_type": "code",
      "metadata": {
        "id": "R4-OFcjzYdpG",
        "colab_type": "code",
        "colab": {
          "base_uri": "https://localhost:8080/",
          "height": 544
        },
        "outputId": "b23f3d5b-5415-46f4-8f65-cd6764b83abe"
      },
      "source": [
        "plt.figure(figsize=(8,6))\n",
        "plt.plot(range(1, len(train_losses)+1), train_losses , label='train', linewidth=1)\n",
        "plt.plot(range(1, len(val_losses)+1), val_losses, label='val', linewidth=1)\n",
        "plt.legend()\n",
        "plt.xlabel('Epochs')\n",
        "plt.ylabel('Loss')\n",
        "plt.title('Model loss')\n",
        "plt.show()\n"
      ],
      "execution_count": 180,
      "outputs": [
        {
          "output_type": "display_data",
          "data": {
            "image/png": "[encoded data removed]",
            "text/plain": [
              "<Figure size 576x432 with 1 Axes>"
            ]
          },
          "metadata": {
            "tags": []
          }
        }
      ]
    },
    {
      "cell_type": "code",
      "metadata": {
        "id": "3IkfMH4inJM2",
        "colab_type": "code",
        "colab": {
          "base_uri": "https://localhost:8080/",
          "height": 544
        },
        "outputId": "69ccd975-9469-4cc6-f8d4-2d421b197e89"
      },
      "source": [
        "plt.figure(figsize=(8,6))\n",
        "plt.plot(range(1, len(train_accuracies)+1), train_accuracies , label='train', linewidth=1)\n",
        "plt.plot(range(1, len(val_accuracies)+1), val_accuracies, label='val', linewidth=1)\n",
        "plt.legend()\n",
        "plt.xlabel('Epochs')\n",
        "plt.ylabel('Accuracy')\n",
        "plt.title('Categorical Accuracy')\n",
        "plt.show()\n",
        "\n"
      ],
      "execution_count": 181,
      "outputs": [
        {
          "output_type": "display_data",
          "data": {
            "image/png": "[encoded data removed]",
            "text/plain": [
              "<Figure size 576x432 with 1 Axes>"
            ]
          },
          "metadata": {
            "tags": []
          }
        }
      ]
    },
    {
      "cell_type": "code",
      "metadata": {
        "id": "PkurEOry0KH1",
        "colab_type": "code",
        "colab": {
          "base_uri": "https://localhost:8080/",
          "height": 284
        },
        "outputId": "a8af27a2-2d2e-45ed-a828-ebb97c3523f8"
      },
      "source": [
        "checkpoint = torch.load(PATH)\n",
        "model.load_state_dict(checkpoint['model_state_dict'])\n",
        "loss_best = checkpoint['loss']\n",
        "accuracy_best = checkpoint['accuracy']\n",
        "model.eval()"
      ],
      "execution_count": 183,
      "outputs": [
        {
          "output_type": "execute_result",
          "data": {
            "text/plain": [
              "LSTMwAttn(\n",
              "  (embedding): Embedding(160263, 300)\n",
              "  (rnn): LSTM(300, 5, bidirectional=True)\n",
              "  (attn): Linear(in_features=10, out_features=1, bias=True)\n",
              "  (decoder): Linear(in_features=10, out_features=2, bias=True)\n",
              ")"
            ]
          },
          "metadata": {
            "tags": []
          },
          "execution_count": 183
        }
      ]
    },
    {
      "cell_type": "code",
      "metadata": {
        "id": "XBZaIfbwRfy9",
        "colab_type": "code",
        "colab": {
          "base_uri": "https://localhost:8080/",
          "height": 216
        },
        "outputId": "b586785e-fc2c-48ab-e59d-3fac2775ca4c"
      },
      "source": [
        "test_loss, test_accuracy = testModel(test_loader, criterion, False)\n",
        "print('Test Loss: {:.4f}\\tTest Accuracy: {:.4f}'.format(test_loss, test_accuracy))"
      ],
      "execution_count": 184,
      "outputs": [
        {
          "output_type": "stream",
          "text": [
            "Test Loss: 0.2573\tTest Accuracy: 0.9223\n"
          ],
          "name": "stdout"
        }
      ]
    }
  ]
}
