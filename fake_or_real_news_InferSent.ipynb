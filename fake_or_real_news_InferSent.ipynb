{
  "nbformat": 4,
  "nbformat_minor": 0,
  "metadata": {
    "accelerator": "GPU",
    "colab": {
      "name": "fake_or_real_news_InferSent.ipynb",
      "version": "0.3.2",
      "provenance": [],
      "collapsed_sections": [],
      "toc_visible": true
    },
    "kernelspec": {
      "display_name": "Python 3",
      "language": "python",
      "name": "python3"
    },
    "language_info": {
      "codemirror_mode": {
        "name": "ipython",
        "version": 3
      },
      "file_extension": ".py",
      "mimetype": "text/x-python",
      "name": "python",
      "nbconvert_exporter": "python",
      "pygments_lexer": "ipython3",
      "version": "3.6.8"
    }
  },
  "cells": [
    {
      "cell_type": "markdown",
      "metadata": {
        "colab_type": "text",
        "id": "igIZL4xx-0Ac"
      },
      "source": [
        "# Fake or Real News"
      ]
    },
    {
      "cell_type": "markdown",
      "metadata": {
        "colab_type": "text",
        "id": "NsaxKrjA_A-T"
      },
      "source": [
        "**Our goal is to build a model to spot real and fake news based on the news content.**\n"
      ]
    },
    {
      "cell_type": "markdown",
      "metadata": {
        "colab_type": "text",
        "id": "I7YjrZu1-N2O"
      },
      "source": [
        "## Import modules"
      ]
    },
    {
      "cell_type": "code",
      "metadata": {
        "colab_type": "code",
        "id": "Z0BwV9vqc8B8",
        "colab": {}
      },
      "source": [
        "import numpy as np\n",
        "import pandas as pd\n",
        "import matplotlib.pyplot as plt\n",
        "import time\n",
        "from sklearn.model_selection import train_test_split\n",
        "\n",
        "import torch\n",
        "import torch.nn as nn\n",
        "from torch import optim\n",
        "import torch.nn.functional as F\n",
        "from torch.utils.data import Dataset, DataLoader, random_split\n",
        "\n",
        "import nltk\n",
        "import random"
      ],
      "execution_count": 0,
      "outputs": []
    },
    {
      "cell_type": "code",
      "metadata": {
        "colab_type": "code",
        "id": "HS5AQJ0Nfkh4",
        "colab": {}
      },
      "source": [
        "USE_CUDA = torch.cuda.is_available()\n",
        "device = torch.device(\"cuda\" if USE_CUDA else \"cpu\")"
      ],
      "execution_count": 0,
      "outputs": []
    },
    {
      "cell_type": "code",
      "metadata": {
        "colab_type": "code",
        "id": "JyUiD2ZUdeQA",
        "outputId": "44697570-8e60-40ea-fb6f-1e64383cda94",
        "colab": {
          "base_uri": "https://localhost:8080/",
          "height": 234
        }
      },
      "source": [
        "nltk.download('punkt')"
      ],
      "execution_count": 3,
      "outputs": [
        {
          "output_type": "stream",
          "text": [
            "[nltk_data] Downloading package punkt to /root/nltk_data...\n",
            "[nltk_data]   Unzipping tokenizers/punkt.zip.\n"
          ],
          "name": "stdout"
        },
        {
          "output_type": "execute_result",
          "data": {
            "text/plain": [
              "True"
            ]
          },
          "metadata": {
            "tags": []
          },
          "execution_count": 3
        }
      ]
    },
    {
      "cell_type": "markdown",
      "metadata": {
        "colab_type": "text",
        "id": "BFxBvvD8dWY3"
      },
      "source": [
        "## InferSent (sentence embeddings)"
      ]
    },
    {
      "cell_type": "code",
      "metadata": {
        "colab_type": "code",
        "id": "1zzzMx1-k9b2",
        "outputId": "79d22bfa-01de-44c7-8e9b-9efa4863787d",
        "colab": {
          "base_uri": "https://localhost:8080/",
          "height": 346
        }
      },
      "source": [
        "!git clone https://github.com/facebookresearch/InferSent.git"
      ],
      "execution_count": 4,
      "outputs": [
        {
          "output_type": "stream",
          "text": [
            "Cloning into 'InferSent'...\n",
            "remote: Enumerating objects: 15, done.\u001b[K\n",
            "remote: Counting objects: 100% (15/15), done.\u001b[K\n",
            "remote: Compressing objects: 100% (12/12), done.\u001b[K\n",
            "remote: Total 255 (delta 5), reused 10 (delta 3), pack-reused 240\u001b[K\n",
            "Receiving objects: 100% (255/255), 447.60 KiB | 616.00 KiB/s, done.\n",
            "Resolving deltas: 100% (129/129), done.\n"
          ],
          "name": "stdout"
        }
      ]
    },
    {
      "cell_type": "code",
      "metadata": {
        "colab_type": "code",
        "id": "NmXKY2b9dLze",
        "outputId": "3fac2b9d-473d-4440-d3ad-b03d408bdc9c",
        "colab": {
          "base_uri": "https://localhost:8080/",
          "height": 666
        }
      },
      "source": [
        "!mkdir encoder\n",
        "!curl -Lo encoder/infersent1.pkl https://dl.fbaipublicfiles.com/infersent/infersent1.pkl"
      ],
      "execution_count": 5,
      "outputs": [
        {
          "output_type": "stream",
          "text": [
            "  % Total    % Received % Xferd  Average Speed   Time    Time     Time  Current\n",
            "                                 Dload  Upload   Total   Spent    Left  Speed\n",
            "100  146M  100  146M    0     0  10.5M      0  0:00:13  0:00:13 --:--:-- 12.5M\n"
          ],
          "name": "stdout"
        }
      ]
    },
    {
      "cell_type": "code",
      "metadata": {
        "colab_type": "code",
        "id": "pSXNjtNGeZ2E",
        "colab": {}
      },
      "source": [
        "# Load model\n",
        "import os\n",
        "os.chdir('./InferSent')\n",
        "from models import InferSent\n",
        "model_version = 1\n",
        "MODEL_PATH = \"../encoder/infersent%s.pkl\" % model_version\n",
        "params_model = {'bsize': 64, 'word_emb_dim': 300, 'enc_lstm_dim': 2048,\n",
        "                'pool_type': 'max', 'dpout_model': 0.0, 'version': model_version}\n",
        "infersent = InferSent(params_model)\n",
        "infersent.load_state_dict(torch.load(MODEL_PATH))\n",
        "infersent = infersent.to(device)"
      ],
      "execution_count": 0,
      "outputs": []
    },
    {
      "cell_type": "code",
      "metadata": {
        "colab_type": "code",
        "id": "-OqaEw03edA7",
        "colab": {}
      },
      "source": [
        "# If infersent1 -> use GloVe embeddings. If infersent2 -> use InferSent embeddings.\n",
        "W2V_PATH = 'GloVe/glove.840B.300d.txt' if model_version == 1 else 'fastText/crawl-300d-2M.vec'\n",
        "infersent.set_w2v_path(W2V_PATH)"
      ],
      "execution_count": 0,
      "outputs": []
    },
    {
      "cell_type": "code",
      "metadata": {
        "colab_type": "code",
        "id": "9G_Oo0YNgQFr",
        "outputId": "a1cd34d8-6251-44b3-8da2-0fb1536c216b",
        "colab": {
          "base_uri": "https://localhost:8080/",
          "height": 1000
        }
      },
      "source": [
        "%%time\n",
        "!mkdir GloVe\n",
        "!curl -Lo GloVe/glove.840B.300d.zip http://nlp.stanford.edu/data/glove.840B.300d.zip\n",
        "!unzip GloVe/glove.840B.300d.zip -d GloVe/"
      ],
      "execution_count": 8,
      "outputs": [
        {
          "output_type": "stream",
          "text": [
            "  % Total    % Received % Xferd  Average Speed   Time    Time     Time  Current\n",
            "                                 Dload  Upload   Total   Spent    Left  Speed\n",
            "  0   315    0     0    0     0      0      0 --:--:-- --:--:-- --:--:--     0\n",
            "  0   352    0     0    0     0      0      0 --:--:-- --:--:-- --:--:--     0\n",
            "100 2075M  100 2075M    0     0  19.5M      0  0:01:46  0:01:46 --:--:-- 20.4M\n",
            "Archive:  GloVe/glove.840B.300d.zip\n",
            "  inflating: GloVe/glove.840B.300d.txt  \n",
            "CPU times: user 901 ms, sys: 349 ms, total: 1.25 s\n",
            "Wall time: 2min 58s\n"
          ],
          "name": "stdout"
        }
      ]
    },
    {
      "cell_type": "code",
      "metadata": {
        "colab_type": "code",
        "id": "m34mjg0tgSyf",
        "outputId": "715c9443-1d53-4156-d981-1ac3cf88d4b4",
        "colab": {
          "base_uri": "https://localhost:8080/",
          "height": 247
        }
      },
      "source": [
        "%%time\n",
        "# Load embeddings of K most frequent words\n",
        "infersent.build_vocab_k_words(K=100000)"
      ],
      "execution_count": 9,
      "outputs": [
        {
          "output_type": "stream",
          "text": [
            "Vocab size : 100000\n",
            "CPU times: user 7.32 s, sys: 870 ms, total: 8.19 s\n",
            "Wall time: 12.9 s\n"
          ],
          "name": "stdout"
        }
      ]
    },
    {
      "cell_type": "code",
      "metadata": {
        "colab_type": "code",
        "id": "z7mJ3Q1OgWEv",
        "outputId": "f7668719-755c-480e-c704-a4f99774c3df",
        "colab": {
          "base_uri": "https://localhost:8080/",
          "height": 214
        }
      },
      "source": [
        "sentences = []\n",
        "with open('samples.txt') as f:\n",
        "    for line in f:\n",
        "        sentences.append(line.strip())\n",
        "print(len(sentences))"
      ],
      "execution_count": 10,
      "outputs": [
        {
          "output_type": "stream",
          "text": [
            "9815\n"
          ],
          "name": "stdout"
        }
      ]
    },
    {
      "cell_type": "code",
      "metadata": {
        "colab_type": "code",
        "id": "_XIhOfM5lw0i",
        "outputId": "dfafcb54-f740-47ab-eae8-437360cbb1ef",
        "colab": {
          "base_uri": "https://localhost:8080/",
          "height": 260
        }
      },
      "source": [
        "sentences[:5]"
      ],
      "execution_count": 11,
      "outputs": [
        {
          "output_type": "execute_result",
          "data": {
            "text/plain": [
              "['Everyone really likes the newest benefits',\n",
              " 'The Government Executive articles housed on the website are not able to be searched .',\n",
              " 'I like him for the most part , but would still enjoy seeing someone beat him .',\n",
              " 'My favorite restaurants are always at least a hundred miles away from my house .',\n",
              " 'I know exactly .']"
            ]
          },
          "metadata": {
            "tags": []
          },
          "execution_count": 11
        }
      ]
    },
    {
      "cell_type": "code",
      "metadata": {
        "colab_type": "code",
        "id": "lCqGUxm7lzZ0",
        "outputId": "72583738-b3d6-4599-c48a-84701a782efb",
        "colab": {
          "base_uri": "https://localhost:8080/",
          "height": 247
        }
      },
      "source": [
        "embeddings = infersent.encode(sentences, bsize=128, tokenize=False, verbose=True)\n",
        "print('number of sentences encoded : {0}'.format(len(embeddings)))"
      ],
      "execution_count": 12,
      "outputs": [
        {
          "output_type": "stream",
          "text": [
            "Nb words kept : 128201/130068 (98.6%)\n",
            "Speed : 1762.1 sentences/s (gpu mode, bsize=128)\n",
            "number of sentences encoded : 9815\n"
          ],
          "name": "stdout"
        }
      ]
    },
    {
      "cell_type": "markdown",
      "metadata": {
        "colab_type": "text",
        "id": "7dWc2hM4NbLv"
      },
      "source": [
        "## Importing data"
      ]
    },
    {
      "cell_type": "code",
      "metadata": {
        "colab_type": "code",
        "id": "rq8tbpEhmMlJ",
        "outputId": "9c55fa87-89f9-4c57-d37e-18777c500509",
        "colab": {
          "base_uri": "https://localhost:8080/",
          "height": 327
        }
      },
      "source": [
        "# Run this cell to mount your Google Drive.\n",
        "from google.colab import drive\n",
        "drive.mount('/content/drive')"
      ],
      "execution_count": 13,
      "outputs": [
        {
          "output_type": "stream",
          "text": [
            "Go to this URL in a browser: https://accounts.google.com/o/oauth2/auth?client_id=947318989803-6bn6qk8qdgf4n4g3pfee6491hc0brc4i.apps.googleusercontent.com&redirect_uri=urn%3Aietf%3Awg%3Aoauth%3A2.0%3Aoob&scope=email%20https%3A%2F%2Fwww.googleapis.com%2Fauth%2Fdocs.test%20https%3A%2F%2Fwww.googleapis.com%2Fauth%2Fdrive%20https%3A%2F%2Fwww.googleapis.com%2Fauth%2Fdrive.photos.readonly%20https%3A%2F%2Fwww.googleapis.com%2Fauth%2Fpeopleapi.readonly&response_type=code\n",
            "\n",
            "Enter your authorization code:\n",
            "··········\n",
            "Mounted at /content/drive\n"
          ],
          "name": "stdout"
        }
      ]
    },
    {
      "cell_type": "code",
      "metadata": {
        "colab_type": "code",
        "id": "xYRC-XQemaW3",
        "outputId": "be645cd9-9ca0-420c-88b0-7d58a23bc62d",
        "colab": {
          "base_uri": "https://localhost:8080/",
          "height": 440
        }
      },
      "source": [
        "df = pd.read_csv('/content/drive/My Drive/Colab Notebooks/fake_or_real_news.csv')\n",
        "df.head()"
      ],
      "execution_count": 14,
      "outputs": [
        {
          "output_type": "execute_result",
          "data": {
            "text/html": [
              "<div>\n",
              "<style scoped>\n",
              "    .dataframe tbody tr th:only-of-type {\n",
              "        vertical-align: middle;\n",
              "    }\n",
              "\n",
              "    .dataframe tbody tr th {\n",
              "        vertical-align: top;\n",
              "    }\n",
              "\n",
              "    .dataframe thead th {\n",
              "        text-align: right;\n",
              "    }\n",
              "</style>\n",
              "<table border=\"1\" class=\"dataframe\">\n",
              "  <thead>\n",
              "    <tr style=\"text-align: right;\">\n",
              "      <th></th>\n",
              "      <th>Unnamed: 0</th>\n",
              "      <th>title</th>\n",
              "      <th>text</th>\n",
              "      <th>label</th>\n",
              "    </tr>\n",
              "  </thead>\n",
              "  <tbody>\n",
              "    <tr>\n",
              "      <th>0</th>\n",
              "      <td>8476</td>\n",
              "      <td>You Can Smell Hillary’s Fear</td>\n",
              "      <td>Daniel Greenfield, a Shillman Journalism Fello...</td>\n",
              "      <td>FAKE</td>\n",
              "    </tr>\n",
              "    <tr>\n",
              "      <th>1</th>\n",
              "      <td>10294</td>\n",
              "      <td>Watch The Exact Moment Paul Ryan Committed Pol...</td>\n",
              "      <td>Google Pinterest Digg Linkedin Reddit Stumbleu...</td>\n",
              "      <td>FAKE</td>\n",
              "    </tr>\n",
              "    <tr>\n",
              "      <th>2</th>\n",
              "      <td>3608</td>\n",
              "      <td>Kerry to go to Paris in gesture of sympathy</td>\n",
              "      <td>U.S. Secretary of State John F. Kerry said Mon...</td>\n",
              "      <td>REAL</td>\n",
              "    </tr>\n",
              "    <tr>\n",
              "      <th>3</th>\n",
              "      <td>10142</td>\n",
              "      <td>Bernie supporters on Twitter erupt in anger ag...</td>\n",
              "      <td>— Kaydee King (@KaydeeKing) November 9, 2016 T...</td>\n",
              "      <td>FAKE</td>\n",
              "    </tr>\n",
              "    <tr>\n",
              "      <th>4</th>\n",
              "      <td>875</td>\n",
              "      <td>The Battle of New York: Why This Primary Matters</td>\n",
              "      <td>It's primary day in New York and front-runners...</td>\n",
              "      <td>REAL</td>\n",
              "    </tr>\n",
              "  </tbody>\n",
              "</table>\n",
              "</div>"
            ],
            "text/plain": [
              "   Unnamed: 0  ... label\n",
              "0        8476  ...  FAKE\n",
              "1       10294  ...  FAKE\n",
              "2        3608  ...  REAL\n",
              "3       10142  ...  FAKE\n",
              "4         875  ...  REAL\n",
              "\n",
              "[5 rows x 4 columns]"
            ]
          },
          "metadata": {
            "tags": []
          },
          "execution_count": 14
        }
      ]
    },
    {
      "cell_type": "markdown",
      "metadata": {
        "colab_type": "text",
        "id": "A9prf4BFNjOj"
      },
      "source": [
        "## Data preprocessing"
      ]
    },
    {
      "cell_type": "code",
      "metadata": {
        "colab_type": "code",
        "id": "xUS6pYT8mhsR",
        "outputId": "9f7eea24-2497-4b46-b2ac-780d720485ad",
        "colab": {
          "base_uri": "https://localhost:8080/",
          "height": 361
        }
      },
      "source": [
        "df.text = df.title + '. ' + df.text\n",
        "df = df[['text', 'label']]\n",
        "df.head()"
      ],
      "execution_count": 15,
      "outputs": [
        {
          "output_type": "execute_result",
          "data": {
            "text/html": [
              "<div>\n",
              "<style scoped>\n",
              "    .dataframe tbody tr th:only-of-type {\n",
              "        vertical-align: middle;\n",
              "    }\n",
              "\n",
              "    .dataframe tbody tr th {\n",
              "        vertical-align: top;\n",
              "    }\n",
              "\n",
              "    .dataframe thead th {\n",
              "        text-align: right;\n",
              "    }\n",
              "</style>\n",
              "<table border=\"1\" class=\"dataframe\">\n",
              "  <thead>\n",
              "    <tr style=\"text-align: right;\">\n",
              "      <th></th>\n",
              "      <th>text</th>\n",
              "      <th>label</th>\n",
              "    </tr>\n",
              "  </thead>\n",
              "  <tbody>\n",
              "    <tr>\n",
              "      <th>0</th>\n",
              "      <td>You Can Smell Hillary’s Fear. Daniel Greenfiel...</td>\n",
              "      <td>FAKE</td>\n",
              "    </tr>\n",
              "    <tr>\n",
              "      <th>1</th>\n",
              "      <td>Watch The Exact Moment Paul Ryan Committed Pol...</td>\n",
              "      <td>FAKE</td>\n",
              "    </tr>\n",
              "    <tr>\n",
              "      <th>2</th>\n",
              "      <td>Kerry to go to Paris in gesture of sympathy. U...</td>\n",
              "      <td>REAL</td>\n",
              "    </tr>\n",
              "    <tr>\n",
              "      <th>3</th>\n",
              "      <td>Bernie supporters on Twitter erupt in anger ag...</td>\n",
              "      <td>FAKE</td>\n",
              "    </tr>\n",
              "    <tr>\n",
              "      <th>4</th>\n",
              "      <td>The Battle of New York: Why This Primary Matte...</td>\n",
              "      <td>REAL</td>\n",
              "    </tr>\n",
              "  </tbody>\n",
              "</table>\n",
              "</div>"
            ],
            "text/plain": [
              "                                                text label\n",
              "0  You Can Smell Hillary’s Fear. Daniel Greenfiel...  FAKE\n",
              "1  Watch The Exact Moment Paul Ryan Committed Pol...  FAKE\n",
              "2  Kerry to go to Paris in gesture of sympathy. U...  REAL\n",
              "3  Bernie supporters on Twitter erupt in anger ag...  FAKE\n",
              "4  The Battle of New York: Why This Primary Matte...  REAL"
            ]
          },
          "metadata": {
            "tags": []
          },
          "execution_count": 15
        }
      ]
    },
    {
      "cell_type": "code",
      "metadata": {
        "colab_type": "code",
        "id": "OQwvAqCFraor",
        "outputId": "2836b56b-c3b1-41db-e09e-ced17c39cefe",
        "colab": {
          "base_uri": "https://localhost:8080/",
          "height": 233
        }
      },
      "source": [
        "%%time\n",
        "df['text_sent'] = df.text.apply(lambda x: nltk.sent_tokenize(x))\n",
        "df['label'] = df.label.apply(lambda x: 1 if x == 'REAL' else 0)"
      ],
      "execution_count": 16,
      "outputs": [
        {
          "output_type": "stream",
          "text": [
            "CPU times: user 10.6 s, sys: 47.1 ms, total: 10.7 s\n",
            "Wall time: 10.7 s\n"
          ],
          "name": "stdout"
        }
      ]
    },
    {
      "cell_type": "code",
      "metadata": {
        "colab_type": "code",
        "id": "itQZowiytMWU",
        "outputId": "b5f881ca-0fe5-405a-cb52-f1dbc3db54d4",
        "colab": {
          "base_uri": "https://localhost:8080/",
          "height": 361
        }
      },
      "source": [
        "df = df[['text_sent', 'label']]\n",
        "df.head()"
      ],
      "execution_count": 17,
      "outputs": [
        {
          "output_type": "execute_result",
          "data": {
            "text/html": [
              "<div>\n",
              "<style scoped>\n",
              "    .dataframe tbody tr th:only-of-type {\n",
              "        vertical-align: middle;\n",
              "    }\n",
              "\n",
              "    .dataframe tbody tr th {\n",
              "        vertical-align: top;\n",
              "    }\n",
              "\n",
              "    .dataframe thead th {\n",
              "        text-align: right;\n",
              "    }\n",
              "</style>\n",
              "<table border=\"1\" class=\"dataframe\">\n",
              "  <thead>\n",
              "    <tr style=\"text-align: right;\">\n",
              "      <th></th>\n",
              "      <th>text_sent</th>\n",
              "      <th>label</th>\n",
              "    </tr>\n",
              "  </thead>\n",
              "  <tbody>\n",
              "    <tr>\n",
              "      <th>0</th>\n",
              "      <td>[You Can Smell Hillary’s Fear., Daniel Greenfi...</td>\n",
              "      <td>0</td>\n",
              "    </tr>\n",
              "    <tr>\n",
              "      <th>1</th>\n",
              "      <td>[Watch The Exact Moment Paul Ryan Committed Po...</td>\n",
              "      <td>0</td>\n",
              "    </tr>\n",
              "    <tr>\n",
              "      <th>2</th>\n",
              "      <td>[Kerry to go to Paris in gesture of sympathy.,...</td>\n",
              "      <td>1</td>\n",
              "    </tr>\n",
              "    <tr>\n",
              "      <th>3</th>\n",
              "      <td>[Bernie supporters on Twitter erupt in anger a...</td>\n",
              "      <td>0</td>\n",
              "    </tr>\n",
              "    <tr>\n",
              "      <th>4</th>\n",
              "      <td>[The Battle of New York: Why This Primary Matt...</td>\n",
              "      <td>1</td>\n",
              "    </tr>\n",
              "  </tbody>\n",
              "</table>\n",
              "</div>"
            ],
            "text/plain": [
              "                                           text_sent  label\n",
              "0  [You Can Smell Hillary’s Fear., Daniel Greenfi...      0\n",
              "1  [Watch The Exact Moment Paul Ryan Committed Po...      0\n",
              "2  [Kerry to go to Paris in gesture of sympathy.,...      1\n",
              "3  [Bernie supporters on Twitter erupt in anger a...      0\n",
              "4  [The Battle of New York: Why This Primary Matt...      1"
            ]
          },
          "metadata": {
            "tags": []
          },
          "execution_count": 17
        }
      ]
    },
    {
      "cell_type": "code",
      "metadata": {
        "colab_type": "code",
        "id": "qg5kqdC9tNoT",
        "colab": {}
      },
      "source": [
        "# %%time\n",
        "# df['sent_emb'] = df.text_sent.apply(lambda x: model.encode(x))"
      ],
      "execution_count": 0,
      "outputs": []
    },
    {
      "cell_type": "code",
      "metadata": {
        "colab_type": "code",
        "id": "OgN-vsnzmuNu",
        "colab": {}
      },
      "source": [
        "class sentText(Dataset):\n",
        "    def __init__(self, df, transform=None):\n",
        "        self.df = df\n",
        "        self.len = df.shape[0]\n",
        "        self.transform = transform\n",
        "\n",
        "    def __len__(self):\n",
        "        return self.len #len(self.df)\n",
        "\n",
        "    def __getitem__(self, idx):\n",
        "        sample = self.df.iloc[idx]\n",
        "        return {'text': sample.text_sent, 'label': sample.label}"
      ],
      "execution_count": 0,
      "outputs": []
    },
    {
      "cell_type": "code",
      "metadata": {
        "colab_type": "code",
        "id": "IPPEPy5sdLxn",
        "colab": {}
      },
      "source": [
        "BATCH_SIZE = 64\n",
        "dataset = sentText(df)\n",
        "\n",
        "train_len = int(0.7*dataset.len)\n",
        "valid_len = int(0.2*dataset.len)\n",
        "test_len = dataset.len - train_len - valid_len\n",
        "train, valid, test = random_split(dataset, lengths=[train_len, valid_len, test_len])\n",
        "\n",
        "def my_collate(batch):\n",
        "    data = [item['text'] for item in batch]  # just form a list of tensor\n",
        "    target = [item['label'] for item in batch]\n",
        "    return [data, target]\n",
        "\n",
        "train_loader = DataLoader(dataset=train,\n",
        "                          batch_size=BATCH_SIZE,\n",
        "                          shuffle=True,\n",
        "                          collate_fn=my_collate,\n",
        "                          num_workers=2)\n",
        "\n",
        "valid_loader = DataLoader(dataset=valid,\n",
        "                          batch_size=BATCH_SIZE,\n",
        "                          collate_fn=my_collate,\n",
        "                          shuffle=True)\n",
        "\n",
        "test_loader = DataLoader(dataset=test,\n",
        "                         batch_size=BATCH_SIZE,\n",
        "                         collate_fn=my_collate,\n",
        "                         shuffle=False)"
      ],
      "execution_count": 0,
      "outputs": []
    },
    {
      "cell_type": "markdown",
      "metadata": {
        "colab_type": "text",
        "id": "SCaXDgyzN6zZ"
      },
      "source": [
        "## Building model"
      ]
    },
    {
      "cell_type": "code",
      "metadata": {
        "colab_type": "code",
        "id": "kVFDPA1pH3tJ",
        "colab": {}
      },
      "source": [
        "class sentLSTM(nn.Module):\n",
        "    def __init__(self,\n",
        "                 embed_size,\n",
        "                 lstm_hidden_size,\n",
        "                 output_size,\n",
        "                 dropout=0.2,\n",
        "                 attention=True,\n",
        "                 num_layers=1,\n",
        "                 bidirectional=True):\n",
        "        super(sentLSTM, self).__init__()\n",
        "        self.lstm_hidden_size = lstm_hidden_size\n",
        "        self.output_size = output_size\n",
        "        self.dropout = dropout\n",
        "        self.attention = attention\n",
        "        self.num_layers = num_layers\n",
        "        self.bidirectional = bidirectional\n",
        "        \n",
        "        self.rnn = nn.LSTM(embed_size, \n",
        "                           lstm_hidden_size, \n",
        "                           num_layers, \n",
        "                           dropout=0 if num_layers == 1 else dropout, \n",
        "                           bidirectional=bidirectional)\n",
        "        \n",
        "        num_directions = 2 if bidirectional else 1\n",
        "        \n",
        "        self.attn = nn.Linear(lstm_hidden_size * num_directions, 1)\n",
        "        self.decoder = nn.Linear(lstm_hidden_size * num_directions, output_size)\n",
        "        \n",
        "    def forward(self,\n",
        "                packed_rnn_inputs, \n",
        "                desorted_indices,\n",
        "                hidden=None):\n",
        "        \n",
        "        packed_rnn_outputs, (hidden, cell) = self.rnn(packed_rnn_inputs, hidden)\n",
        "        padded_rnn_out, _ = nn.utils.rnn.pad_packed_sequence(packed_rnn_outputs)\n",
        "        rnn_outputs = padded_rnn_out[:, desorted_indices] # restore the original order of data in time\n",
        "        # shape of rnn_outputs: seq_len x batch_size x hidden size\n",
        "        if self.attention:\n",
        "            attn_weights = F.softmax(torch.sigmoid(self.attn(rnn_outputs)), dim=0)\n",
        "            # shape of attn_weights: seq_len x batch_size x 1\n",
        "            attn_applied = attn_weights * rnn_outputs\n",
        "            # shape of attn_applied: seq_len x batch_size x (hidden_size x num_layers x num_directions)\n",
        "            weighted_sum = attn_applied.sum(0)\n",
        "            # shape of weighted_sum: batch_size x (hidden_size x num_layers x num_directions)\n",
        "            outputs = self.decoder(weighted_sum)\n",
        "            # shape of outputs: batch_size x output_size\n",
        "        else:\n",
        "            if self.num_directions == 2:\n",
        "                rnn_out = rnn_outputs.view(rnn_outputs.size(0), rnn_outputs.size(1), self.num_directions, self.hidden_size)\n",
        "                # shape of rnn_out: seq_len x batch_size x 2 x hidden_size\n",
        "                hidden_f = rnn_out[:,:,0,:][-1]                 # shape: batch_size x hidden_size\n",
        "                hidden_b = rnn_out[:,:,1,:][-1]                 # shape: batch_size x hidden_size\n",
        "                hidden = torch.cat([hidden_f, hidden_b], dim=1) # shape: batch_size x (hidden_size x num_directions)\n",
        "                outputs = self.decoder(hidden)\n",
        "            else:\n",
        "                outputs = self.decoder(rnn_outputs[-1])\n",
        "            # shape of outputs: batch_size x output_size\n",
        "        \n",
        "        return outputs\n",
        "      \n",
        "    def initHidden(self, batch_size):\n",
        "        return (torch.zeros(self.num_layers * self.num_directions, batch_size, self.hidden_size, device=device),\n",
        "                torch.zeros(self.num_layers * self.num_directions, batch_size, self.hidden_size, device=device))"
      ],
      "execution_count": 0,
      "outputs": []
    },
    {
      "cell_type": "code",
      "metadata": {
        "colab_type": "code",
        "id": "UKL2zByGXnXW",
        "outputId": "27601a9d-774f-4421-dc6a-b3cc71ad0f9d",
        "colab": {
          "base_uri": "https://localhost:8080/",
          "height": 260
        }
      },
      "source": [
        "LSTM_HIDDEN_SIZE = 10\n",
        "OUTPUR_SIZE = len(set(df.label))\n",
        "EMBED_SIZE = 4096\n",
        "model = sentLSTM(EMBED_SIZE, LSTM_HIDDEN_SIZE, OUTPUR_SIZE).to(device)\n",
        "model"
      ],
      "execution_count": 22,
      "outputs": [
        {
          "output_type": "execute_result",
          "data": {
            "text/plain": [
              "sentLSTM(\n",
              "  (rnn): LSTM(4096, 10, bidirectional=True)\n",
              "  (attn): Linear(in_features=20, out_features=1, bias=True)\n",
              "  (decoder): Linear(in_features=20, out_features=2, bias=True)\n",
              ")"
            ]
          },
          "metadata": {
            "tags": []
          },
          "execution_count": 22
        }
      ]
    },
    {
      "cell_type": "markdown",
      "metadata": {
        "colab_type": "text",
        "id": "yyT-ww3aOJ2b"
      },
      "source": [
        "## Model training"
      ]
    },
    {
      "cell_type": "code",
      "metadata": {
        "colab_type": "code",
        "id": "TLxaj6Ax1bwt",
        "colab": {}
      },
      "source": [
        "optimizer = optim.Adam(model.parameters(), lr=0.01, betas=(0.9, 0.999))\n",
        "criterion = F.cross_entropy"
      ],
      "execution_count": 0,
      "outputs": []
    },
    {
      "cell_type": "code",
      "metadata": {
        "colab_type": "code",
        "id": "f_vyzGBJFSsv",
        "colab": {}
      },
      "source": [
        "def packPadEmbSents(sentence_batch, requires_grad=True):\n",
        "    seq_lenths = torch.tensor([len(elm) for elm in sentence_batch]) #get the number of sentences for each text in the batch\n",
        "    sorted_seq_lengths, indices = torch.sort(seq_lenths, descending=True)\n",
        "    _, desorted_indices = torch.sort(indices, descending=False)\n",
        "    \n",
        "    embedded = [torch.tensor(infersent.encode(text), requires_grad=requires_grad) # the model will not learn if requires_grad=False \n",
        "                    for text in sentence_batch] # convert each sentence into vector in the batch\n",
        "    padded_embedded_seq = nn.utils.rnn.pad_sequence(embedded) # pad the embedded sequences in the batch since the sequences may have different length\n",
        "\n",
        "    rnn_inputs = padded_embedded_seq[:, indices] # put the padded sequence in decreasing order according to their lengths\n",
        "    packed_rnn_inputs = nn.utils.rnn.pack_padded_sequence(rnn_inputs, sorted_seq_lengths.cpu().numpy())\n",
        "    packed_rnn_inputs = packed_rnn_inputs.to(device)\n",
        "    return packed_rnn_inputs, desorted_indices"
      ],
      "execution_count": 0,
      "outputs": []
    },
    {
      "cell_type": "code",
      "metadata": {
        "colab_type": "code",
        "id": "gkTB1h0390q_",
        "colab": {}
      },
      "source": [
        "def trainModel(data_loader, criterion, optimizer, train_losses=[], train_accuracies = []):\n",
        "    model.train()\n",
        "    losses = []\n",
        "    accuracies = []\n",
        "    for bach_idx, samples in enumerate(data_loader):\n",
        "        packed_rnn_inputs, desorted_indices = packPadEmbSents(samples[0], True)\n",
        "        prediction = model(packed_rnn_inputs, desorted_indices)        \n",
        "        optimizer.zero_grad()\n",
        "        target = torch.tensor(samples[1]).to(device)\n",
        "        loss = criterion(prediction, target)\n",
        "        loss.backward()\n",
        "        optimizer.step()\n",
        "        losses.append(loss.item())\n",
        "        pred_class = torch.argmax(prediction, dim=1)\n",
        "        accuracy = ((pred_class - target) == 0).sum().item() / target.size(0)\n",
        "        accuracies.append(accuracy)\n",
        "    train_losses.append(np.mean(losses))\n",
        "    train_accuracies.append(np.mean(accuracies))\n",
        "    print('\\nEpoch: {}/{}\\nTraining Loss:\\t{:.4f}\\tTraining Categorical Accuracy:\\t{:.4f}\\t'\n",
        "          .format(epoch+1, NUM_EPOCHS, train_losses[-1], train_accuracies[-1]))\n",
        "    return train_losses, train_accuracies\n",
        "  \n",
        "def testModel(data_loader, criterion, val, val_losses=[], val_accuracies=[]):\n",
        "    model.eval()\n",
        "    losses = []\n",
        "    accuracies = []\n",
        "    for samples in data_loader:\n",
        "        packed_rnn_inputs, desorted_indices = packPadEmbSents(samples[0], False)\n",
        "        with torch.no_grad(): prediction = model(packed_rnn_inputs, desorted_indices)\n",
        "        target = torch.tensor(samples[1]).to(device)\n",
        "        loss = criterion(prediction, target)\n",
        "        losses.append(loss.item())\n",
        "        pred_class = torch.argmax(prediction, dim=1)\n",
        "        accuracy = ((pred_class - target) == 0).sum().item() / target.size(0)\n",
        "        accuracies.append(accuracy)\n",
        "    if val:\n",
        "        val_losses.append(np.mean(losses))\n",
        "        val_accuracies.append(np.mean(accuracies))\n",
        "        print('Validation Loss:\\t{:.4f}\\tValidation Categorical Accuracy:\\t{:.4f}'\n",
        "              .format(val_losses[-1], val_accuracies[-1]))\n",
        "        return val_losses, val_accuracies, val_losses[-1], val_accuracies[-1]\n",
        "    return np.mean(losses), np.mean(accuracies)"
      ],
      "execution_count": 0,
      "outputs": []
    },
    {
      "cell_type": "code",
      "metadata": {
        "colab_type": "code",
        "id": "rrQzH0x293oJ",
        "colab": {}
      },
      "source": [
        "def saveModel(maxAcc, val_acc, val_loss):\n",
        "    if val_acc > maxAcc:\n",
        "        torch.save({\n",
        "            'model_state_dict': model.state_dict(),\n",
        "            'loss': val_loss,\n",
        "            'accuracy': val_acc,\n",
        "            }, PATH)\n",
        "        print('Validation accuracy increased from {:5f} to {:5f}, saving model to {}'.format(maxAcc, val_acc, PATH))\n",
        "        return val_acc\n",
        "    return maxAcc"
      ],
      "execution_count": 0,
      "outputs": []
    },
    {
      "cell_type": "markdown",
      "metadata": {
        "colab_type": "text",
        "id": "Le0hX9MGOOtv"
      },
      "source": [
        "### Training loop"
      ]
    },
    {
      "cell_type": "code",
      "metadata": {
        "colab_type": "code",
        "id": "gejCM1BT97eA",
        "outputId": "a3b5ba0a-84fa-40b9-d32e-5af6c3e493ac",
        "colab": {
          "base_uri": "https://localhost:8080/",
          "height": 1000
        }
      },
      "source": [
        "%%time\n",
        "NUM_EPOCHS = 20\n",
        "maxAcc = 0\n",
        "threshold_acc = 0.95\n",
        "PATH = './attnLSTM_inferSent.pth'\n",
        "print('Train on {} samples, validate on {} samples'.format(len(train_loader.dataset), len(valid_loader.dataset)))\n",
        "train_losses, train_accuracies = [], []\n",
        "valid_losses, valid_accuracies = [], []\n",
        "for epoch in range(NUM_EPOCHS):\n",
        "    train_losses, train_accuracies = trainModel(train_loader, criterion, optimizer, train_losses, train_accuracies)\n",
        "    valid_losses, valid_accuracies, valid_loss, valid_acc = testModel(valid_loader, criterion, True, valid_losses, valid_accuracies)\n",
        "    maxAcc = saveModel(maxAcc, valid_acc, valid_loss)\n",
        "    if valid_acc > threshold_acc: break"
      ],
      "execution_count": 27,
      "outputs": [
        {
          "output_type": "stream",
          "text": [
            "Train on 4434 samples, validate on 1267 samples\n",
            "\n",
            "Epoch: 1/20\n",
            "Training Loss:\t0.6521\tTraining Categorical Accuracy:\t0.6452\t\n",
            "Validation Loss:\t0.5890\tValidation Categorical Accuracy:\t0.7257\n",
            "Validation accuracy increased from 0.000000 to 0.725735, saving model to ./attnLSTM_inferSent.pth\n",
            "\n",
            "Epoch: 2/20\n",
            "Training Loss:\t0.5238\tTraining Categorical Accuracy:\t0.7704\t\n",
            "Validation Loss:\t0.4713\tValidation Categorical Accuracy:\t0.7974\n",
            "Validation accuracy increased from 0.725735 to 0.797411, saving model to ./attnLSTM_inferSent.pth\n",
            "\n",
            "Epoch: 3/20\n",
            "Training Loss:\t0.4932\tTraining Categorical Accuracy:\t0.7728\t\n",
            "Validation Loss:\t0.4298\tValidation Categorical Accuracy:\t0.8091\n",
            "Validation accuracy increased from 0.797411 to 0.809145, saving model to ./attnLSTM_inferSent.pth\n",
            "\n",
            "Epoch: 4/20\n",
            "Training Loss:\t0.4446\tTraining Categorical Accuracy:\t0.8015\t\n",
            "Validation Loss:\t0.4205\tValidation Categorical Accuracy:\t0.8072\n",
            "\n",
            "Epoch: 5/20\n",
            "Training Loss:\t0.4392\tTraining Categorical Accuracy:\t0.7984\t\n",
            "Validation Loss:\t0.4894\tValidation Categorical Accuracy:\t0.7763\n",
            "\n",
            "Epoch: 6/20\n",
            "Training Loss:\t0.4278\tTraining Categorical Accuracy:\t0.8105\t\n",
            "Validation Loss:\t0.5061\tValidation Categorical Accuracy:\t0.7658\n",
            "\n",
            "Epoch: 7/20\n",
            "Training Loss:\t0.3798\tTraining Categorical Accuracy:\t0.8366\t\n",
            "Validation Loss:\t0.3527\tValidation Categorical Accuracy:\t0.8478\n",
            "Validation accuracy increased from 0.809145 to 0.847809, saving model to ./attnLSTM_inferSent.pth\n",
            "\n",
            "Epoch: 8/20\n",
            "Training Loss:\t0.3265\tTraining Categorical Accuracy:\t0.8587\t\n",
            "Validation Loss:\t0.2999\tValidation Categorical Accuracy:\t0.8722\n",
            "Validation accuracy increased from 0.847809 to 0.872243, saving model to ./attnLSTM_inferSent.pth\n",
            "\n",
            "Epoch: 9/20\n",
            "Training Loss:\t0.3137\tTraining Categorical Accuracy:\t0.8697\t\n",
            "Validation Loss:\t0.3490\tValidation Categorical Accuracy:\t0.8416\n",
            "\n",
            "Epoch: 10/20\n",
            "Training Loss:\t0.3022\tTraining Categorical Accuracy:\t0.8683\t\n",
            "Validation Loss:\t0.3044\tValidation Categorical Accuracy:\t0.8699\n",
            "\n",
            "Epoch: 11/20\n",
            "Training Loss:\t0.3153\tTraining Categorical Accuracy:\t0.8712\t\n",
            "Validation Loss:\t0.3275\tValidation Categorical Accuracy:\t0.8549\n",
            "\n",
            "Epoch: 12/20\n",
            "Training Loss:\t0.2803\tTraining Categorical Accuracy:\t0.8843\t\n",
            "Validation Loss:\t0.2698\tValidation Categorical Accuracy:\t0.8789\n",
            "Validation accuracy increased from 0.872243 to 0.878876, saving model to ./attnLSTM_inferSent.pth\n",
            "\n",
            "Epoch: 13/20\n",
            "Training Loss:\t0.2699\tTraining Categorical Accuracy:\t0.8856\t\n",
            "Validation Loss:\t0.2564\tValidation Categorical Accuracy:\t0.8861\n",
            "Validation accuracy increased from 0.878876 to 0.886121, saving model to ./attnLSTM_inferSent.pth\n",
            "\n",
            "Epoch: 14/20\n",
            "Training Loss:\t0.2529\tTraining Categorical Accuracy:\t0.8945\t\n",
            "Validation Loss:\t0.2412\tValidation Categorical Accuracy:\t0.8892\n",
            "Validation accuracy increased from 0.886121 to 0.889231, saving model to ./attnLSTM_inferSent.pth\n",
            "\n",
            "Epoch: 15/20\n",
            "Training Loss:\t0.2361\tTraining Categorical Accuracy:\t0.9005\t\n",
            "Validation Loss:\t0.2307\tValidation Categorical Accuracy:\t0.9068\n",
            "Validation accuracy increased from 0.889231 to 0.906801, saving model to ./attnLSTM_inferSent.pth\n",
            "\n",
            "Epoch: 16/20\n",
            "Training Loss:\t0.2075\tTraining Categorical Accuracy:\t0.9168\t\n",
            "Validation Loss:\t0.2113\tValidation Categorical Accuracy:\t0.9105\n",
            "Validation accuracy increased from 0.906801 to 0.910539, saving model to ./attnLSTM_inferSent.pth\n",
            "\n",
            "Epoch: 17/20\n",
            "Training Loss:\t0.1937\tTraining Categorical Accuracy:\t0.9215\t\n",
            "Validation Loss:\t0.2156\tValidation Categorical Accuracy:\t0.9119\n",
            "Validation accuracy increased from 0.910539 to 0.911903, saving model to ./attnLSTM_inferSent.pth\n",
            "\n",
            "Epoch: 18/20\n",
            "Training Loss:\t0.1823\tTraining Categorical Accuracy:\t0.9310\t\n",
            "Validation Loss:\t0.2176\tValidation Categorical Accuracy:\t0.9215\n",
            "Validation accuracy increased from 0.911903 to 0.921477, saving model to ./attnLSTM_inferSent.pth\n",
            "\n",
            "Epoch: 19/20\n",
            "Training Loss:\t0.1940\tTraining Categorical Accuracy:\t0.9280\t\n",
            "Validation Loss:\t0.2027\tValidation Categorical Accuracy:\t0.9156\n",
            "\n",
            "Epoch: 20/20\n",
            "Training Loss:\t0.1865\tTraining Categorical Accuracy:\t0.9346\t\n",
            "Validation Loss:\t0.2389\tValidation Categorical Accuracy:\t0.9201\n",
            "CPU times: user 4h 55min 30s, sys: 2h 2min 33s, total: 6h 58min 3s\n",
            "Wall time: 6h 58min 19s\n"
          ],
          "name": "stdout"
        }
      ]
    },
    {
      "cell_type": "markdown",
      "metadata": {
        "colab_type": "text",
        "id": "puDh-ZqvTbT0"
      },
      "source": [
        "## Model evaulation¶"
      ]
    },
    {
      "cell_type": "code",
      "metadata": {
        "colab_type": "code",
        "id": "0N4hJqOxdpvn",
        "colab": {
          "base_uri": "https://localhost:8080/",
          "height": 466
        },
        "outputId": "ca6d107a-95f2-476e-9ca8-5511df2baa95"
      },
      "source": [
        "plt.figure(figsize=(8,6))\n",
        "plt.plot(range(1, len(train_losses)+1), train_losses, label='train', linewidth=1)\n",
        "plt.plot(range(1, len(valid_losses)+1), valid_losses, label='valid', linewidth=1)\n",
        "plt.legend()\n",
        "plt.xlabel('Epochs')\n",
        "plt.ylabel('Loss')\n",
        "plt.title('Model loss')\n",
        "plt.show()"
      ],
      "execution_count": 28,
      "outputs": [
        {
          "output_type": "display_data",
          "data": {
            "image/png": "[encoded data removed]",
            "text/plain": [
              "<Figure size 576x432 with 1 Axes>"
            ]
          },
          "metadata": {
            "tags": []
          }
        }
      ]
    },
    {
      "cell_type": "code",
      "metadata": {
        "colab_type": "code",
        "id": "CeqsNUxNTc6Y",
        "colab": {
          "base_uri": "https://localhost:8080/",
          "height": 466
        },
        "outputId": "9c788172-aad4-4e1b-ae73-964bb27fbe46"
      },
      "source": [
        "plt.figure(figsize=(8,6))\n",
        "plt.plot(range(1, len(train_accuracies)+1), train_accuracies, label='train', linewidth=1)\n",
        "plt.plot(range(1, len(valid_accuracies)+1), valid_accuracies, label='valid', linewidth=1)\n",
        "plt.legend()\n",
        "plt.xlabel('Epochs')\n",
        "plt.ylabel('Accuracy')\n",
        "plt.title('Categorical Accuracy')\n",
        "plt.show()"
      ],
      "execution_count": 29,
      "outputs": [
        {
          "output_type": "display_data",
          "data": {
            "image/png": "[encoded data removed]",
            "text/plain": [
              "<Figure size 576x432 with 1 Axes>"
            ]
          },
          "metadata": {
            "tags": []
          }
        }
      ]
    },
    {
      "cell_type": "code",
      "metadata": {
        "colab_type": "code",
        "id": "ykD3bUxgTfU9",
        "colab": {
          "base_uri": "https://localhost:8080/",
          "height": 107
        },
        "outputId": "1011f56d-5d7b-467e-afde-1ca8cd048128"
      },
      "source": [
        "%%time\n",
        "test_loss, test_accuracy = testModel(train_loader, criterion, False)\n",
        "print('Test Loss: {:.4f}\\tTest Accuracy: {:.4f}'.format(test_loss, test_accuracy))"
      ],
      "execution_count": 30,
      "outputs": [
        {
          "output_type": "stream",
          "text": [
            "Test Loss: 0.1794\tTest Accuracy: 0.9395\n",
            "CPU times: user 6min 26s, sys: 4min 28s, total: 10min 55s\n",
            "Wall time: 10min 55s\n"
          ],
          "name": "stdout"
        }
      ]
    },
    {
      "cell_type": "code",
      "metadata": {
        "colab_type": "code",
        "id": "zVcIFXBvTlh8",
        "colab": {
          "base_uri": "https://localhost:8080/",
          "height": 140
        },
        "outputId": "b6a7456f-2ad8-4e81-8202-56378ce1be93"
      },
      "source": [
        "PATH = '/content/InferSent/attnLSTM_inferSent.pth'\n",
        "checkpoint = torch.load(PATH)\n",
        "model.load_state_dict(checkpoint['model_state_dict'])\n",
        "loss_best = checkpoint['loss']\n",
        "accuracy_best = checkpoint['accuracy']\n",
        "model.eval()"
      ],
      "execution_count": 32,
      "outputs": [
        {
          "output_type": "execute_result",
          "data": {
            "text/plain": [
              "sentLSTM(\n",
              "  (rnn): LSTM(4096, 10, bidirectional=True)\n",
              "  (attn): Linear(in_features=20, out_features=1, bias=True)\n",
              "  (decoder): Linear(in_features=20, out_features=2, bias=True)\n",
              ")"
            ]
          },
          "metadata": {
            "tags": []
          },
          "execution_count": 32
        }
      ]
    },
    {
      "cell_type": "code",
      "metadata": {
        "id": "aQW-7F2odKYc",
        "colab_type": "code",
        "colab": {
          "base_uri": "https://localhost:8080/",
          "height": 107
        },
        "outputId": "276d0fd0-25a3-4101-c923-7035a875c0a6"
      },
      "source": [
        "%%time\n",
        "test_loss, test_accuracy = testModel(train_loader, criterion, False)\n",
        "print('Test Loss: {:.4f}\\tTest Accuracy: {:.4f}'.format(test_loss, test_accuracy))"
      ],
      "execution_count": 33,
      "outputs": [
        {
          "output_type": "stream",
          "text": [
            "Test Loss: 0.1813\tTest Accuracy: 0.9377\n",
            "CPU times: user 6min 25s, sys: 4min 29s, total: 10min 55s\n",
            "Wall time: 10min 55s\n"
          ],
          "name": "stdout"
        }
      ]
    },
    {
      "cell_type": "code",
      "metadata": {
        "id": "ORCkQ1uSdcB5",
        "colab_type": "code",
        "colab": {}
      },
      "source": [
        ""
      ],
      "execution_count": 0,
      "outputs": []
    }
  ]
}