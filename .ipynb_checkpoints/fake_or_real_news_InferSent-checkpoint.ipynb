{
 "cells": [
  {
   "cell_type": "markdown",
   "metadata": {
    "colab_type": "text",
    "id": "igIZL4xx-0Ac"
   },
   "source": [
    "# Fake or Real News"
   ]
  },
  {
   "cell_type": "markdown",
   "metadata": {
    "colab_type": "text",
    "id": "NsaxKrjA_A-T"
   },
   "source": [
    "**Our goal is to build a model to spot real and fake news based on the news content.**\n"
   ]
  },
  {
   "cell_type": "markdown",
   "metadata": {
    "colab_type": "text",
    "id": "I7YjrZu1-N2O"
   },
   "source": [
    "## Import modules"
   ]
  },
  {
   "cell_type": "markdown",
   "metadata": {
    "colab_type": "text",
    "id": "93G3hCuX_ItO"
   },
   "source": []
  },
  {
   "cell_type": "code",
   "execution_count": 0,
   "metadata": {
    "colab": {},
    "colab_type": "code",
    "id": "Z0BwV9vqc8B8"
   },
   "outputs": [],
   "source": [
    "import numpy as np\n",
    "import pandas as pd\n",
    "import matplotlib.pyplot as plt\n",
    "import time\n",
    "from sklearn.model_selection import train_test_split\n",
    "\n",
    "import torch\n",
    "import torch.nn as nn\n",
    "from torch import optim\n",
    "import torch.nn.functional as F\n",
    "from torch.utils.data import Dataset, DataLoader, random_split\n",
    "\n",
    "import nltk\n",
    "import random"
   ]
  },
  {
   "cell_type": "code",
   "execution_count": 0,
   "metadata": {
    "colab": {},
    "colab_type": "code",
    "id": "HS5AQJ0Nfkh4"
   },
   "outputs": [],
   "source": [
    "USE_CUDA = torch.cuda.is_available()\n",
    "device = torch.device(\"cuda\" if USE_CUDA else \"cpu\")"
   ]
  },
  {
   "cell_type": "code",
   "execution_count": 8,
   "metadata": {
    "colab": {
     "base_uri": "https://localhost:8080/",
     "height": 112
    },
    "colab_type": "code",
    "id": "JyUiD2ZUdeQA",
    "outputId": "fc749806-5562-4662-ecc9-c5f6874ecd09"
   },
   "outputs": [
    {
     "name": "stdout",
     "output_type": "stream",
     "text": [
      "[nltk_data] Downloading package punkt to /root/nltk_data...\n",
      "[nltk_data]   Unzipping tokenizers/punkt.zip.\n"
     ]
    },
    {
     "data": {
      "text/plain": [
       "True"
      ]
     },
     "execution_count": 8,
     "metadata": {
      "tags": []
     },
     "output_type": "execute_result"
    }
   ],
   "source": [
    "nltk.download('punkt')"
   ]
  },
  {
   "cell_type": "markdown",
   "metadata": {
    "colab_type": "text",
    "id": "BFxBvvD8dWY3"
   },
   "source": [
    "## InferSent (sentence embeddings)"
   ]
  },
  {
   "cell_type": "code",
   "execution_count": 6,
   "metadata": {
    "colab": {
     "base_uri": "https://localhost:8080/",
     "height": 208
    },
    "colab_type": "code",
    "id": "1zzzMx1-k9b2",
    "outputId": "6395b16e-bc68-46c3-8a4c-d24bda210246"
   },
   "outputs": [
    {
     "name": "stdout",
     "output_type": "stream",
     "text": [
      "Cloning into 'InferSent'...\n",
      "remote: Enumerating objects: 15, done.\u001b[K\n",
      "remote: Counting objects: 100% (15/15), done.\u001b[K\n",
      "remote: Compressing objects: 100% (12/12), done.\u001b[K\n",
      "remote: Total 255 (delta 5), reused 10 (delta 3), pack-reused 240\u001b[K\n",
      "Receiving objects: 100% (255/255), 447.60 KiB | 8.44 MiB/s, done.\n",
      "Resolving deltas: 100% (129/129), done.\n"
     ]
    }
   ],
   "source": [
    "!git clone https://github.com/facebookresearch/InferSent.git"
   ]
  },
  {
   "cell_type": "code",
   "execution_count": 7,
   "metadata": {
    "colab": {
     "base_uri": "https://localhost:8080/",
     "height": 424
    },
    "colab_type": "code",
    "id": "NmXKY2b9dLze",
    "outputId": "f216228a-be85-410b-fffd-7ff2b66bbff4"
   },
   "outputs": [
    {
     "name": "stdout",
     "output_type": "stream",
     "text": [
      "  % Total    % Received % Xferd  Average Speed   Time    Time     Time  Current\n",
      "                                 Dload  Upload   Total   Spent    Left  Speed\n",
      "100  146M  100  146M    0     0  24.2M      0  0:00:06  0:00:06 --:--:-- 29.7M\n"
     ]
    }
   ],
   "source": [
    "!mkdir encoder\n",
    "!curl -Lo encoder/infersent1.pkl https://dl.fbaipublicfiles.com/infersent/infersent1.pkl"
   ]
  },
  {
   "cell_type": "code",
   "execution_count": 0,
   "metadata": {
    "colab": {},
    "colab_type": "code",
    "id": "pSXNjtNGeZ2E"
   },
   "outputs": [],
   "source": [
    "# Load model\n",
    "import os\n",
    "os.chdir('../InferSent')\n",
    "from models import InferSent\n",
    "model_version = 1\n",
    "MODEL_PATH = \"../encoder/infersent%s.pkl\" % model_version\n",
    "params_model = {'bsize': 64, 'word_emb_dim': 300, 'enc_lstm_dim': 2048,\n",
    "                'pool_type': 'max', 'dpout_model': 0.0, 'version': model_version}\n",
    "infersent = InferSent(params_model)\n",
    "infersent.load_state_dict(torch.load(MODEL_PATH))\n",
    "infersent = infersent.to(device)"
   ]
  },
  {
   "cell_type": "code",
   "execution_count": 0,
   "metadata": {
    "colab": {},
    "colab_type": "code",
    "id": "-OqaEw03edA7"
   },
   "outputs": [],
   "source": [
    "# If infersent1 -> use GloVe embeddings. If infersent2 -> use InferSent embeddings.\n",
    "W2V_PATH = 'GloVe/glove.840B.300d.txt' if model_version == 1 else 'fastText/crawl-300d-2M.vec'\n",
    "infersent.set_w2v_path(W2V_PATH)"
   ]
  },
  {
   "cell_type": "code",
   "execution_count": 11,
   "metadata": {
    "colab": {
     "base_uri": "https://localhost:8080/",
     "height": 1000
    },
    "colab_type": "code",
    "id": "9G_Oo0YNgQFr",
    "outputId": "eb161e6b-a8e4-459d-e942-3d54ed04e98c"
   },
   "outputs": [
    {
     "name": "stdout",
     "output_type": "stream",
     "text": [
      "  % Total    % Received % Xferd  Average Speed   Time    Time     Time  Current\n",
      "                                 Dload  Upload   Total   Spent    Left  Speed\n",
      "\r",
      "  0     0    0     0    0     0      0      0 --:--:-- --:--:-- --:--:--     0\r",
      "  0   315    0     0    0     0      0      0 --:--:-- --:--:-- --:--:--     0\n",
      "  0   352    0     0    0     0      0      0 --:--:-- --:--:-- --:--:--     0\n",
      "100 2075M  100 2075M    0     0  37.7M      0  0:00:54  0:00:54 --:--:-- 39.3M\n",
      "Archive:  GloVe/glove.840B.300d.zip\n",
      "  inflating: GloVe/glove.840B.300d.txt  \n",
      "CPU times: user 902 ms, sys: 307 ms, total: 1.21 s\n",
      "Wall time: 2min 5s\n"
     ]
    }
   ],
   "source": [
    "%%time\n",
    "!mkdir GloVe\n",
    "!curl -Lo GloVe/glove.840B.300d.zip http://nlp.stanford.edu/data/glove.840B.300d.zip\n",
    "!unzip GloVe/glove.840B.300d.zip -d GloVe/"
   ]
  },
  {
   "cell_type": "code",
   "execution_count": 72,
   "metadata": {
    "colab": {
     "base_uri": "https://localhost:8080/",
     "height": 112
    },
    "colab_type": "code",
    "id": "m34mjg0tgSyf",
    "outputId": "8d94a483-0dc5-4ea6-fb52-379827ee4530"
   },
   "outputs": [
    {
     "name": "stdout",
     "output_type": "stream",
     "text": [
      "Vocab size : 100000\n",
      "CPU times: user 6.95 s, sys: 606 ms, total: 7.56 s\n",
      "Wall time: 7.56 s\n"
     ]
    }
   ],
   "source": [
    "%%time\n",
    "# Load embeddings of K most frequent words\n",
    "infersent.build_vocab_k_words(K=100000)"
   ]
  },
  {
   "cell_type": "code",
   "execution_count": 13,
   "metadata": {
    "colab": {
     "base_uri": "https://localhost:8080/",
     "height": 76
    },
    "colab_type": "code",
    "id": "z7mJ3Q1OgWEv",
    "outputId": "b00d35d6-a9b6-4970-d3ec-3d1b612a3a3d"
   },
   "outputs": [
    {
     "name": "stdout",
     "output_type": "stream",
     "text": [
      "9815\n"
     ]
    }
   ],
   "source": [
    "sentences = []\n",
    "with open('samples.txt') as f:\n",
    "    for line in f:\n",
    "        sentences.append(line.strip())\n",
    "print(len(sentences))"
   ]
  },
  {
   "cell_type": "code",
   "execution_count": 14,
   "metadata": {
    "colab": {
     "base_uri": "https://localhost:8080/",
     "height": 324
    },
    "colab_type": "code",
    "id": "_XIhOfM5lw0i",
    "outputId": "034dfbd4-f76f-43c6-bcf7-7fcbf1b25e83"
   },
   "outputs": [
    {
     "data": {
      "text/plain": [
       "['Everyone really likes the newest benefits',\n",
       " 'The Government Executive articles housed on the website are not able to be searched .',\n",
       " 'I like him for the most part , but would still enjoy seeing someone beat him .',\n",
       " 'My favorite restaurants are always at least a hundred miles away from my house .',\n",
       " 'I know exactly .']"
      ]
     },
     "execution_count": 14,
     "metadata": {
      "tags": []
     },
     "output_type": "execute_result"
    }
   ],
   "source": [
    "sentences[:5]"
   ]
  },
  {
   "cell_type": "code",
   "execution_count": 46,
   "metadata": {
    "colab": {
     "base_uri": "https://localhost:8080/",
     "height": 112
    },
    "colab_type": "code",
    "id": "lCqGUxm7lzZ0",
    "outputId": "5b23f157-5c7b-4343-de3b-38be67de369b"
   },
   "outputs": [
    {
     "name": "stdout",
     "output_type": "stream",
     "text": [
      "Nb words kept : 128201/130068 (98.6%)\n",
      "Speed : 1789.9 sentences/s (gpu mode, bsize=128)\n",
      "nb sentences encoded : 9815\n"
     ]
    }
   ],
   "source": [
    "embeddings = infersent.encode(sentences, bsize=128, tokenize=False, verbose=True)\n",
    "print('number of sentences encoded : {0}'.format(len(embeddings)))"
   ]
  },
  {
   "cell_type": "markdown",
   "metadata": {
    "colab_type": "text",
    "id": "7dWc2hM4NbLv"
   },
   "source": [
    "## Importing data"
   ]
  },
  {
   "cell_type": "code",
   "execution_count": 21,
   "metadata": {
    "colab": {
     "base_uri": "https://localhost:8080/",
     "height": 612
    },
    "colab_type": "code",
    "id": "rq8tbpEhmMlJ",
    "outputId": "8a447364-e10b-4e3e-c432-fef2bfec41f5"
   },
   "outputs": [
    {
     "name": "stdout",
     "output_type": "stream",
     "text": [
      "Go to this URL in a browser: https://accounts.google.com/o/oauth2/auth?client_id=947318989803-6bn6qk8qdgf4n4g3pfee6491hc0brc4i.apps.googleusercontent.com&redirect_uri=urn%3Aietf%3Awg%3Aoauth%3A2.0%3Aoob&scope=email%20https%3A%2F%2Fwww.googleapis.com%2Fauth%2Fdocs.test%20https%3A%2F%2Fwww.googleapis.com%2Fauth%2Fdrive%20https%3A%2F%2Fwww.googleapis.com%2Fauth%2Fdrive.photos.readonly%20https%3A%2F%2Fwww.googleapis.com%2Fauth%2Fpeopleapi.readonly&response_type=code\n",
      "\n",
      "Enter your authorization code:\n",
      "··········\n",
      "Mounted at /content/drive\n"
     ]
    }
   ],
   "source": [
    "# Run this cell to mount your Google Drive.\n",
    "from google.colab import drive\n",
    "drive.mount('/content/drive')"
   ]
  },
  {
   "cell_type": "code",
   "execution_count": 22,
   "metadata": {
    "colab": {
     "base_uri": "https://localhost:8080/",
     "height": 352
    },
    "colab_type": "code",
    "id": "xYRC-XQemaW3",
    "outputId": "38417bd9-e80d-445a-e762-e20d88ff117c"
   },
   "outputs": [
    {
     "data": {
      "text/html": [
       "<div>\n",
       "<style scoped>\n",
       "    .dataframe tbody tr th:only-of-type {\n",
       "        vertical-align: middle;\n",
       "    }\n",
       "\n",
       "    .dataframe tbody tr th {\n",
       "        vertical-align: top;\n",
       "    }\n",
       "\n",
       "    .dataframe thead th {\n",
       "        text-align: right;\n",
       "    }\n",
       "</style>\n",
       "<table border=\"1\" class=\"dataframe\">\n",
       "  <thead>\n",
       "    <tr style=\"text-align: right;\">\n",
       "      <th></th>\n",
       "      <th>Unnamed: 0</th>\n",
       "      <th>title</th>\n",
       "      <th>text</th>\n",
       "      <th>label</th>\n",
       "    </tr>\n",
       "  </thead>\n",
       "  <tbody>\n",
       "    <tr>\n",
       "      <th>0</th>\n",
       "      <td>8476</td>\n",
       "      <td>You Can Smell Hillary’s Fear</td>\n",
       "      <td>Daniel Greenfield, a Shillman Journalism Fello...</td>\n",
       "      <td>FAKE</td>\n",
       "    </tr>\n",
       "    <tr>\n",
       "      <th>1</th>\n",
       "      <td>10294</td>\n",
       "      <td>Watch The Exact Moment Paul Ryan Committed Pol...</td>\n",
       "      <td>Google Pinterest Digg Linkedin Reddit Stumbleu...</td>\n",
       "      <td>FAKE</td>\n",
       "    </tr>\n",
       "    <tr>\n",
       "      <th>2</th>\n",
       "      <td>3608</td>\n",
       "      <td>Kerry to go to Paris in gesture of sympathy</td>\n",
       "      <td>U.S. Secretary of State John F. Kerry said Mon...</td>\n",
       "      <td>REAL</td>\n",
       "    </tr>\n",
       "    <tr>\n",
       "      <th>3</th>\n",
       "      <td>10142</td>\n",
       "      <td>Bernie supporters on Twitter erupt in anger ag...</td>\n",
       "      <td>— Kaydee King (@KaydeeKing) November 9, 2016 T...</td>\n",
       "      <td>FAKE</td>\n",
       "    </tr>\n",
       "    <tr>\n",
       "      <th>4</th>\n",
       "      <td>875</td>\n",
       "      <td>The Battle of New York: Why This Primary Matters</td>\n",
       "      <td>It's primary day in New York and front-runners...</td>\n",
       "      <td>REAL</td>\n",
       "    </tr>\n",
       "  </tbody>\n",
       "</table>\n",
       "</div>"
      ],
      "text/plain": [
       "   Unnamed: 0  ... label\n",
       "0        8476  ...  FAKE\n",
       "1       10294  ...  FAKE\n",
       "2        3608  ...  REAL\n",
       "3       10142  ...  FAKE\n",
       "4         875  ...  REAL\n",
       "\n",
       "[5 rows x 4 columns]"
      ]
     },
     "execution_count": 22,
     "metadata": {
      "tags": []
     },
     "output_type": "execute_result"
    }
   ],
   "source": [
    "df = pd.read_csv('/content/drive/My Drive/Colab Notebooks/fake_or_real_news.csv')\n",
    "df.head()"
   ]
  },
  {
   "cell_type": "markdown",
   "metadata": {
    "colab_type": "text",
    "id": "A9prf4BFNjOj"
   },
   "source": [
    "## Data preprocessing"
   ]
  },
  {
   "cell_type": "code",
   "execution_count": 23,
   "metadata": {
    "colab": {
     "base_uri": "https://localhost:8080/",
     "height": 248
    },
    "colab_type": "code",
    "id": "xUS6pYT8mhsR",
    "outputId": "33169145-c701-41a8-ee91-e3e9f8d87602"
   },
   "outputs": [
    {
     "data": {
      "text/html": [
       "<div>\n",
       "<style scoped>\n",
       "    .dataframe tbody tr th:only-of-type {\n",
       "        vertical-align: middle;\n",
       "    }\n",
       "\n",
       "    .dataframe tbody tr th {\n",
       "        vertical-align: top;\n",
       "    }\n",
       "\n",
       "    .dataframe thead th {\n",
       "        text-align: right;\n",
       "    }\n",
       "</style>\n",
       "<table border=\"1\" class=\"dataframe\">\n",
       "  <thead>\n",
       "    <tr style=\"text-align: right;\">\n",
       "      <th></th>\n",
       "      <th>text</th>\n",
       "      <th>label</th>\n",
       "    </tr>\n",
       "  </thead>\n",
       "  <tbody>\n",
       "    <tr>\n",
       "      <th>0</th>\n",
       "      <td>You Can Smell Hillary’s Fear. Daniel Greenfiel...</td>\n",
       "      <td>FAKE</td>\n",
       "    </tr>\n",
       "    <tr>\n",
       "      <th>1</th>\n",
       "      <td>Watch The Exact Moment Paul Ryan Committed Pol...</td>\n",
       "      <td>FAKE</td>\n",
       "    </tr>\n",
       "    <tr>\n",
       "      <th>2</th>\n",
       "      <td>Kerry to go to Paris in gesture of sympathy. U...</td>\n",
       "      <td>REAL</td>\n",
       "    </tr>\n",
       "    <tr>\n",
       "      <th>3</th>\n",
       "      <td>Bernie supporters on Twitter erupt in anger ag...</td>\n",
       "      <td>FAKE</td>\n",
       "    </tr>\n",
       "    <tr>\n",
       "      <th>4</th>\n",
       "      <td>The Battle of New York: Why This Primary Matte...</td>\n",
       "      <td>REAL</td>\n",
       "    </tr>\n",
       "  </tbody>\n",
       "</table>\n",
       "</div>"
      ],
      "text/plain": [
       "                                                text label\n",
       "0  You Can Smell Hillary’s Fear. Daniel Greenfiel...  FAKE\n",
       "1  Watch The Exact Moment Paul Ryan Committed Pol...  FAKE\n",
       "2  Kerry to go to Paris in gesture of sympathy. U...  REAL\n",
       "3  Bernie supporters on Twitter erupt in anger ag...  FAKE\n",
       "4  The Battle of New York: Why This Primary Matte...  REAL"
      ]
     },
     "execution_count": 23,
     "metadata": {
      "tags": []
     },
     "output_type": "execute_result"
    }
   ],
   "source": [
    "df.text = df.title + '. ' + df.text\n",
    "df = df[['text', 'label']]\n",
    "df.head()"
   ]
  },
  {
   "cell_type": "code",
   "execution_count": 25,
   "metadata": {
    "colab": {
     "base_uri": "https://localhost:8080/",
     "height": 92
    },
    "colab_type": "code",
    "id": "OQwvAqCFraor",
    "outputId": "6a3cdebf-e29e-4089-a58b-5c014a8e8d8d"
   },
   "outputs": [
    {
     "name": "stdout",
     "output_type": "stream",
     "text": [
      "CPU times: user 10.4 s, sys: 55.6 ms, total: 10.5 s\n",
      "Wall time: 10.5 s\n"
     ]
    }
   ],
   "source": [
    "%%time\n",
    "df['text_sent'] = df.text.apply(lambda x: nltk.sent_tokenize(x))\n",
    "df['label'] = df.label.apply(lambda x: 1 if x == 'REAL' else 0)"
   ]
  },
  {
   "cell_type": "code",
   "execution_count": 26,
   "metadata": {
    "colab": {
     "base_uri": "https://localhost:8080/",
     "height": 248
    },
    "colab_type": "code",
    "id": "itQZowiytMWU",
    "outputId": "b095250f-4e32-4757-821a-a4b46fcec4b8"
   },
   "outputs": [
    {
     "data": {
      "text/html": [
       "<div>\n",
       "<style scoped>\n",
       "    .dataframe tbody tr th:only-of-type {\n",
       "        vertical-align: middle;\n",
       "    }\n",
       "\n",
       "    .dataframe tbody tr th {\n",
       "        vertical-align: top;\n",
       "    }\n",
       "\n",
       "    .dataframe thead th {\n",
       "        text-align: right;\n",
       "    }\n",
       "</style>\n",
       "<table border=\"1\" class=\"dataframe\">\n",
       "  <thead>\n",
       "    <tr style=\"text-align: right;\">\n",
       "      <th></th>\n",
       "      <th>text_sent</th>\n",
       "      <th>label</th>\n",
       "    </tr>\n",
       "  </thead>\n",
       "  <tbody>\n",
       "    <tr>\n",
       "      <th>0</th>\n",
       "      <td>[You Can Smell Hillary’s Fear., Daniel Greenfi...</td>\n",
       "      <td>0</td>\n",
       "    </tr>\n",
       "    <tr>\n",
       "      <th>1</th>\n",
       "      <td>[Watch The Exact Moment Paul Ryan Committed Po...</td>\n",
       "      <td>0</td>\n",
       "    </tr>\n",
       "    <tr>\n",
       "      <th>2</th>\n",
       "      <td>[Kerry to go to Paris in gesture of sympathy.,...</td>\n",
       "      <td>1</td>\n",
       "    </tr>\n",
       "    <tr>\n",
       "      <th>3</th>\n",
       "      <td>[Bernie supporters on Twitter erupt in anger a...</td>\n",
       "      <td>0</td>\n",
       "    </tr>\n",
       "    <tr>\n",
       "      <th>4</th>\n",
       "      <td>[The Battle of New York: Why This Primary Matt...</td>\n",
       "      <td>1</td>\n",
       "    </tr>\n",
       "  </tbody>\n",
       "</table>\n",
       "</div>"
      ],
      "text/plain": [
       "                                           text_sent  label\n",
       "0  [You Can Smell Hillary’s Fear., Daniel Greenfi...      0\n",
       "1  [Watch The Exact Moment Paul Ryan Committed Po...      0\n",
       "2  [Kerry to go to Paris in gesture of sympathy.,...      1\n",
       "3  [Bernie supporters on Twitter erupt in anger a...      0\n",
       "4  [The Battle of New York: Why This Primary Matt...      1"
      ]
     },
     "execution_count": 26,
     "metadata": {
      "tags": []
     },
     "output_type": "execute_result"
    }
   ],
   "source": [
    "df = df[['text_sent', 'label']]\n",
    "df.head()"
   ]
  },
  {
   "cell_type": "code",
   "execution_count": 34,
   "metadata": {
    "colab": {
     "base_uri": "https://localhost:8080/",
     "height": 356
    },
    "colab_type": "code",
    "id": "oDy-gO9azEEa",
    "outputId": "b734afc1-0e17-408f-f607-edb88e6a4da6"
   },
   "outputs": [
    {
     "data": {
      "text/html": [
       "<div>\n",
       "<style scoped>\n",
       "    .dataframe tbody tr th:only-of-type {\n",
       "        vertical-align: middle;\n",
       "    }\n",
       "\n",
       "    .dataframe tbody tr th {\n",
       "        vertical-align: top;\n",
       "    }\n",
       "\n",
       "    .dataframe thead th {\n",
       "        text-align: right;\n",
       "    }\n",
       "</style>\n",
       "<table border=\"1\" class=\"dataframe\">\n",
       "  <thead>\n",
       "    <tr style=\"text-align: right;\">\n",
       "      <th></th>\n",
       "      <th>text</th>\n",
       "      <th>label</th>\n",
       "      <th>text_sent</th>\n",
       "    </tr>\n",
       "  </thead>\n",
       "  <tbody>\n",
       "    <tr>\n",
       "      <th>0</th>\n",
       "      <td>You Can Smell Hillary’s Fear. Daniel Greenfiel...</td>\n",
       "      <td>FAKE</td>\n",
       "      <td>[You Can Smell Hillary’s Fear., Daniel Greenfi...</td>\n",
       "    </tr>\n",
       "    <tr>\n",
       "      <th>1</th>\n",
       "      <td>Watch The Exact Moment Paul Ryan Committed Pol...</td>\n",
       "      <td>FAKE</td>\n",
       "      <td>[Watch The Exact Moment Paul Ryan Committed Po...</td>\n",
       "    </tr>\n",
       "    <tr>\n",
       "      <th>2</th>\n",
       "      <td>Kerry to go to Paris in gesture of sympathy. U...</td>\n",
       "      <td>REAL</td>\n",
       "      <td>[Kerry to go to Paris in gesture of sympathy.,...</td>\n",
       "    </tr>\n",
       "    <tr>\n",
       "      <th>3</th>\n",
       "      <td>Bernie supporters on Twitter erupt in anger ag...</td>\n",
       "      <td>FAKE</td>\n",
       "      <td>[Bernie supporters on Twitter erupt in anger a...</td>\n",
       "    </tr>\n",
       "    <tr>\n",
       "      <th>4</th>\n",
       "      <td>The Battle of New York: Why This Primary Matte...</td>\n",
       "      <td>REAL</td>\n",
       "      <td>[The Battle of New York: Why This Primary Matt...</td>\n",
       "    </tr>\n",
       "  </tbody>\n",
       "</table>\n",
       "</div>"
      ],
      "text/plain": [
       "                                                text  ...                                          text_sent\n",
       "0  You Can Smell Hillary’s Fear. Daniel Greenfiel...  ...  [You Can Smell Hillary’s Fear., Daniel Greenfi...\n",
       "1  Watch The Exact Moment Paul Ryan Committed Pol...  ...  [Watch The Exact Moment Paul Ryan Committed Po...\n",
       "2  Kerry to go to Paris in gesture of sympathy. U...  ...  [Kerry to go to Paris in gesture of sympathy.,...\n",
       "3  Bernie supporters on Twitter erupt in anger ag...  ...  [Bernie supporters on Twitter erupt in anger a...\n",
       "4  The Battle of New York: Why This Primary Matte...  ...  [The Battle of New York: Why This Primary Matt...\n",
       "\n",
       "[5 rows x 3 columns]"
      ]
     },
     "execution_count": 34,
     "metadata": {
      "tags": []
     },
     "output_type": "execute_result"
    }
   ],
   "source": [
    "df.head()"
   ]
  },
  {
   "cell_type": "code",
   "execution_count": 35,
   "metadata": {
    "colab": {
     "base_uri": "https://localhost:8080/",
     "height": 132
    },
    "colab_type": "code",
    "id": "qg5kqdC9tNoT",
    "outputId": "03080029-416f-4f33-d43e-6bfc8480d99d"
   },
   "outputs": [
    {
     "name": "stdout",
     "output_type": "stream",
     "text": [
      "CPU times: user 9min 32s, sys: 6min 46s, total: 16min 18s\n",
      "Wall time: 16min 18s\n"
     ]
    }
   ],
   "source": [
    "# %%time\n",
    "# df['sent_emb'] = df.text_sent.apply(lambda x: model.encode(x))"
   ]
  },
  {
   "cell_type": "code",
   "execution_count": 0,
   "metadata": {
    "colab": {},
    "colab_type": "code",
    "id": "OgN-vsnzmuNu"
   },
   "outputs": [],
   "source": [
    "class sentText(Dataset):\n",
    "    def __init__(self, df, transform=None):\n",
    "        self.df = df\n",
    "        self.len = df.shape[0]\n",
    "        self.transform = transform\n",
    "\n",
    "    def __len__(self):\n",
    "        return self.len #len(self.df)\n",
    "\n",
    "    def __getitem__(self, idx):\n",
    "        sample = self.df.iloc[idx]\n",
    "        return {'text': sample.text_sent, 'label': sample.label}"
   ]
  },
  {
   "cell_type": "code",
   "execution_count": 0,
   "metadata": {
    "colab": {},
    "colab_type": "code",
    "id": "IPPEPy5sdLxn"
   },
   "outputs": [],
   "source": [
    "BATCH_SIZE = 64\n",
    "dataset = sentText(df)\n",
    "\n",
    "train_len = int(0.7*dataset.len)\n",
    "valid_len = int(0.2*dataset.len)\n",
    "test_len = dataset.len - train_len - valid_len\n",
    "train, valid, test = random_split(dataset, lengths=[train_len, valid_len, test_len])\n",
    "\n",
    "def my_collate(batch):\n",
    "    data = [item['text'] for item in batch]  # just form a list of tensor\n",
    "    target = [item['label'] for item in batch]\n",
    "    return [data, target]\n",
    "\n",
    "train_loader = DataLoader(dataset=train,\n",
    "                          batch_size=BATCH_SIZE,\n",
    "                          shuffle=True,\n",
    "                          collate_fn=my_collate,\n",
    "                          num_workers=2)\n",
    "\n",
    "valid_loader = DataLoader(dataset=valid,\n",
    "                          batch_size=BATCH_SIZE,\n",
    "                          collate_fn=my_collate,\n",
    "                          shuffle=True)\n",
    "\n",
    "test_loader = DataLoader(dataset=test,\n",
    "                         batch_size=BATCH_SIZE,\n",
    "                         collate_fn=my_collate,\n",
    "                         shuffle=False)"
   ]
  },
  {
   "cell_type": "markdown",
   "metadata": {
    "colab_type": "text",
    "id": "SCaXDgyzN6zZ"
   },
   "source": [
    "## Building model"
   ]
  },
  {
   "cell_type": "code",
   "execution_count": 0,
   "metadata": {
    "colab": {},
    "colab_type": "code",
    "id": "kVFDPA1pH3tJ"
   },
   "outputs": [],
   "source": [
    "class sentLSTM(nn.Module):\n",
    "    def __init__(self,\n",
    "                 embed_size,\n",
    "                 lstm_hidden_size,\n",
    "                 output_size,\n",
    "                 dropout=0.2,\n",
    "                 attention=True,\n",
    "                 num_layers=1,\n",
    "                 bidirectional=True):\n",
    "        super(sentLSTM, self).__init__()\n",
    "        self.lstm_hidden_size = lstm_hidden_size\n",
    "        self.output_size = output_size\n",
    "        self.dropout = dropout\n",
    "        self.attention = attention\n",
    "        self.num_layers = num_layers\n",
    "        self.bidirectional = bidirectional\n",
    "        \n",
    "        self.rnn = nn.LSTM(embed_size, \n",
    "                           lstm_hidden_size, \n",
    "                           num_layers, \n",
    "                           dropout=0 if num_layers == 1 else dropout, \n",
    "                           bidirectional=bidirectional)\n",
    "        \n",
    "        num_directions = 2 if bidirectional else 1\n",
    "        \n",
    "        self.attn = nn.Linear(lstm_hidden_size * num_directions, 1)\n",
    "        self.decoder = nn.Linear(lstm_hidden_size * num_directions, output_size)\n",
    "        \n",
    "    def forward(self,\n",
    "                packed_rnn_inputs, \n",
    "                desorted_indices,\n",
    "                hidden=None):\n",
    "        \n",
    "        packed_rnn_outputs, (hidden, cell) = self.rnn(packed_rnn_inputs, hidden)\n",
    "        padded_rnn_out, _ = nn.utils.rnn.pad_packed_sequence(packed_rnn_outputs)\n",
    "        rnn_outputs = padded_rnn_out[:, desorted_indices] # restore the original order of data in time\n",
    "        # shape of rnn_outputs: seq_len x batch_size x hidden size\n",
    "        if self.attention:\n",
    "            attn_weights = F.softmax(torch.sigmoid(self.attn(rnn_outputs)), dim=0)\n",
    "            # shape of attn_weights: seq_len x batch_size x 1\n",
    "            attn_applied = attn_weights * rnn_outputs\n",
    "            # shape of attn_applied: seq_len x batch_size x (hidden_size x num_layers x num_directions)\n",
    "            weighted_sum = attn_applied.sum(0)\n",
    "            # shape of weighted_sum: batch_size x (hidden_size x num_layers x num_directions)\n",
    "            outputs = self.decoder(weighted_sum)\n",
    "            # shape of outputs: batch_size x output_size\n",
    "        else:\n",
    "            if self.num_directions == 2:\n",
    "                rnn_out = rnn_outputs.view(rnn_outputs.size(0), rnn_outputs.size(1), self.num_directions, self.hidden_size)\n",
    "                # shape of rnn_out: seq_len x batch_size x 2 x hidden_size\n",
    "                hidden_f = rnn_out[:,:,0,:][-1]                 # shape: batch_size x hidden_size\n",
    "                hidden_b = rnn_out[:,:,1,:][-1]                 # shape: batch_size x hidden_size\n",
    "                hidden = torch.cat([hidden_f, hidden_b], dim=1) # shape: batch_size x (hidden_size x num_directions)\n",
    "                outputs = self.decoder(hidden)\n",
    "            else:\n",
    "                outputs = self.decoder(rnn_outputs[-1])\n",
    "            # shape of outputs: batch_size x output_size\n",
    "        \n",
    "        return outputs\n",
    "      \n",
    "    def initHidden(self, batch_size):\n",
    "        return (torch.zeros(self.num_layers * self.num_directions, batch_size, self.hidden_size, device=device),\n",
    "                torch.zeros(self.num_layers * self.num_directions, batch_size, self.hidden_size, device=device))"
   ]
  },
  {
   "cell_type": "code",
   "execution_count": 143,
   "metadata": {
    "colab": {
     "base_uri": "https://localhost:8080/",
     "height": 146
    },
    "colab_type": "code",
    "id": "UKL2zByGXnXW",
    "outputId": "ae1fb8a1-a024-4c16-9a19-49ddcb0eb98f"
   },
   "outputs": [
    {
     "data": {
      "text/plain": [
       "sentLSTM(\n",
       "  (rnn): LSTM(4096, 10, bidirectional=True)\n",
       "  (attn): Linear(in_features=20, out_features=1, bias=True)\n",
       "  (decoder): Linear(in_features=20, out_features=2, bias=True)\n",
       ")"
      ]
     },
     "execution_count": 143,
     "metadata": {
      "tags": []
     },
     "output_type": "execute_result"
    }
   ],
   "source": [
    "LSTM_HIDDEN_SIZE = 10\n",
    "OUTPUR_SIZE = len(set(df.label))\n",
    "EMBED_SIZE = 4096\n",
    "model = sentLSTM(EMBED_SIZE, LSTM_HIDDEN_SIZE, OUTPUR_SIZE).to(device)\n",
    "model"
   ]
  },
  {
   "cell_type": "markdown",
   "metadata": {
    "colab_type": "text",
    "id": "yyT-ww3aOJ2b"
   },
   "source": [
    "## Model training"
   ]
  },
  {
   "cell_type": "code",
   "execution_count": 0,
   "metadata": {
    "colab": {},
    "colab_type": "code",
    "id": "TLxaj6Ax1bwt"
   },
   "outputs": [],
   "source": [
    "optimizer = optim.Adam(model.parameters(), lr=0.001, betas=(0.9, 0.999))\n",
    "criterion = F.cross_entropy"
   ]
  },
  {
   "cell_type": "code",
   "execution_count": 0,
   "metadata": {
    "colab": {},
    "colab_type": "code",
    "id": "f_vyzGBJFSsv"
   },
   "outputs": [],
   "source": [
    "def packPadEmbSents(sentence_batch, requires_grad=True):\n",
    "    seq_lenths = torch.tensor([len(elm) for elm in sentence_batch]) #get the number of sentences for each text in the batch\n",
    "    sorted_seq_lengths, indices = torch.sort(seq_lenths, descending=True)\n",
    "    _, desorted_indices = torch.sort(indices, descending=False)\n",
    "    \n",
    "    embedded = [torch.tensor(infersent.encode(text), requires_grad=requires_grad) # the model will not learn if requires_grad=False \n",
    "                    for text in sentence_batch] # convert each sentence into vector in the batch\n",
    "    padded_embedded_seq = nn.utils.rnn.pad_sequence(embedded) # pad the embedded sequences in the batch since the sequences may have different length\n",
    "\n",
    "    rnn_inputs = padded_embedded_seq[:, indices] # put the padded sequence in decreasing order according to their lengths\n",
    "    packed_rnn_inputs = nn.utils.rnn.pack_padded_sequence(rnn_inputs, sorted_seq_lengths.cpu().numpy())\n",
    "    packed_rnn_inputs = packed_rnn_inputs.to(device)\n",
    "    return packed_rnn_inputs, desorted_indices"
   ]
  },
  {
   "cell_type": "code",
   "execution_count": 0,
   "metadata": {
    "colab": {},
    "colab_type": "code",
    "id": "gkTB1h0390q_"
   },
   "outputs": [],
   "source": [
    "def trainModel(data_loader, criterion, optimizer, train_losses=[], train_accuracies = []):\n",
    "    model.train()\n",
    "    losses = []\n",
    "    accuracies = []\n",
    "    for bach_idx, samples in enumerate(data_loader):\n",
    "        packed_rnn_inputs, desorted_indices = packPadEmbSents(samples[0], True)\n",
    "        prediction = model(packed_rnn_inputs, desorted_indices)        \n",
    "        optimizer.zero_grad()\n",
    "        target = torch.tensor(samples[1]).to(device)\n",
    "        loss = criterion(prediction, target)\n",
    "        loss.backward()\n",
    "        optimizer.step()\n",
    "        losses.append(loss.item())\n",
    "        pred_class = torch.argmax(prediction, dim=1)\n",
    "        accuracy = ((pred_class - target) == 0).sum().item() / target.size(0)\n",
    "        accuracies.append(accuracy)\n",
    "    train_losses.append(np.mean(losses))\n",
    "    train_accuracies.append(np.mean(accuracies))\n",
    "    print('\\nEpoch: {}/{}\\nTraining Loss:\\t{:.4f}\\tTraining Categorical Accuracy:\\t{:.4f}\\t'\n",
    "          .format(epoch+1, NUM_EPOCHS, train_losses[-1], train_accuracies[-1]))\n",
    "    return train_losses, train_accuracies\n",
    "  \n",
    "def testModel(data_loader, criterion, val, val_losses=[], val_accuracies=[]):\n",
    "    model.eval()\n",
    "    losses = []\n",
    "    accuracies = []\n",
    "    for samples in data_loader:\n",
    "        packed_rnn_inputs, desorted_indices = packPadEmbSents(samples[0], False)\n",
    "        with torch.no_grad(): prediction = model(packed_rnn_inputs, desorted_indices)\n",
    "        target = torch.tensor(samples[1]).to(device)\n",
    "        loss = criterion(prediction, target)\n",
    "        losses.append(loss.item())\n",
    "        pred_class = torch.argmax(prediction, dim=1)\n",
    "        accuracy = ((pred_class - target) == 0).sum().item() / target.size(0)\n",
    "        accuracies.append(accuracy)\n",
    "    if val:\n",
    "        val_losses.append(np.mean(losses))\n",
    "        val_accuracies.append(np.mean(accuracies))\n",
    "        print('Validation Loss:\\t{:.4f}\\tValidation Categorical Accuracy:\\t{:.4f}'\n",
    "              .format(val_losses[-1], val_accuracies[-1]))\n",
    "        return val_losses, val_accuracies, val_losses[-1], val_accuracies[-1]\n",
    "    return np.mean(losses), np.mean(accuracies)"
   ]
  },
  {
   "cell_type": "code",
   "execution_count": 0,
   "metadata": {
    "colab": {},
    "colab_type": "code",
    "id": "rrQzH0x293oJ"
   },
   "outputs": [],
   "source": [
    "def saveModel(maxAcc, val_acc, val_loss):\n",
    "    if val_acc > maxAcc:\n",
    "        torch.save({\n",
    "            'model_state_dict': model.state_dict(),\n",
    "            'loss': val_loss,\n",
    "            'accuracy': val_acc,\n",
    "            }, PATH)\n",
    "        print('Validation accuracy increased from {:5f} to {:5f}, saving model to {}'.format(maxAcc, val_acc, PATH))\n",
    "        return val_acc\n",
    "    return maxAcc"
   ]
  },
  {
   "cell_type": "markdown",
   "metadata": {
    "colab_type": "text",
    "id": "Le0hX9MGOOtv"
   },
   "source": [
    "### Training loop"
   ]
  },
  {
   "cell_type": "code",
   "execution_count": 146,
   "metadata": {
    "colab": {
     "base_uri": "https://localhost:8080/",
     "height": 916
    },
    "colab_type": "code",
    "id": "gejCM1BT97eA",
    "outputId": "99cc0a26-ad9c-401e-ed43-31ca47a60305"
   },
   "outputs": [
    {
     "name": "stdout",
     "output_type": "stream",
     "text": [
      "Train on 4434 samples, validate on 1267 samples\n",
      "\n",
      "Epoch: 1/10\n",
      "Training Loss: 0.4992\tTraining Categorical Accuracy: 0.7429\t\n",
      "Validation Loss: 0.3808\tValidation Categorical Accuracy: 0.8906\n",
      "Validation accuracy increased from 0.000000 to 0.890625, saving model to ./attnLSTM_best.pth\n",
      "\n",
      "Epoch: 2/10\n",
      "Training Loss: 0.3046\tTraining Categorical Accuracy: 0.9413\t\n",
      "Validation Loss: 0.2435\tValidation Categorical Accuracy: 0.9531\n",
      "Validation accuracy increased from 0.890625 to 0.953125, saving model to ./attnLSTM_best.pth\n",
      "\n",
      "Epoch: 3/10\n",
      "Training Loss: 0.2065\tTraining Categorical Accuracy: 0.9540\t\n",
      "Validation Loss: 0.1758\tValidation Categorical Accuracy: 0.9531\n",
      "\n",
      "Epoch: 4/10\n",
      "Training Loss: 0.1578\tTraining Categorical Accuracy: 0.9531\t\n",
      "Validation Loss: 0.1421\tValidation Categorical Accuracy: 0.9531\n",
      "\n",
      "Epoch: 5/10\n",
      "Training Loss: 0.1307\tTraining Categorical Accuracy: 0.9583\t\n",
      "Validation Loss: 0.1204\tValidation Categorical Accuracy: 0.9688\n",
      "Validation accuracy increased from 0.953125 to 0.968750, saving model to ./attnLSTM_best.pth\n",
      "\n",
      "Epoch: 6/10\n",
      "Training Loss: 0.1127\tTraining Categorical Accuracy: 0.9688\t\n",
      "Validation Loss: 0.1215\tValidation Categorical Accuracy: 0.9688\n",
      "\n",
      "Epoch: 7/10\n",
      "Training Loss: 0.1029\tTraining Categorical Accuracy: 0.9667\t\n",
      "Validation Loss: 0.0918\tValidation Categorical Accuracy: 0.9688\n",
      "\n",
      "Epoch: 8/10\n",
      "Training Loss: 0.0877\tTraining Categorical Accuracy: 0.9688\t\n",
      "Validation Loss: 0.0839\tValidation Categorical Accuracy: 0.9688\n",
      "\n",
      "Epoch: 9/10\n",
      "Training Loss: 0.0807\tTraining Categorical Accuracy: 0.9688\t\n",
      "Validation Loss: 0.0776\tValidation Categorical Accuracy: 0.9688\n",
      "\n",
      "Epoch: 10/10\n",
      "Training Loss: 0.0750\tTraining Categorical Accuracy: 0.9688\t\n",
      "Validation Loss: 0.0724\tValidation Categorical Accuracy: 0.9688\n",
      "CPU times: user 2h 8min 37s, sys: 1h 3min 34s, total: 3h 12min 12s\n",
      "Wall time: 3h 12min 19s\n"
     ]
    }
   ],
   "source": [
    "%%time\n",
    "NUM_EPOCHS = 10\n",
    "maxAcc = 0\n",
    "threshold_acc = 0.98\n",
    "PATH = './attnLSTM_best.pth'\n",
    "print('Train on {} samples, validate on {} samples'.format(len(train_loader.dataset), len(valid_loader.dataset)))\n",
    "train_losses, train_accuracies = [], []\n",
    "valid_losses, valid_accuracies = [], []\n",
    "for epoch in range(NUM_EPOCHS):\n",
    "    train_losses, train_accuracies = trainModel(train_loader, criterion, optimizer, train_losses, train_accuracies)\n",
    "    valid_losses, valid_accuracies, valid_loss, valid_acc = testModel(valid_loader, criterion, True, valid_losses, valid_accuracies)\n",
    "    maxAcc = saveModel(maxAcc, valid_acc, valid_loss)\n",
    "    if valid_acc > threshold_acc: break"
   ]
  },
  {
   "cell_type": "markdown",
   "metadata": {
    "colab_type": "text",
    "id": "puDh-ZqvTbT0"
   },
   "source": [
    "## Model evaulation¶"
   ]
  },
  {
   "cell_type": "code",
   "execution_count": 147,
   "metadata": {
    "colab": {
     "base_uri": "https://localhost:8080/",
     "height": 424
    },
    "colab_type": "code",
    "id": "0N4hJqOxdpvn",
    "outputId": "5c7b0cc3-bd6e-4615-e98e-99413a5cef31"
   },
   "outputs": [
    {
     "data": {
      "image/png": "[encoded data removed]",
      "text/plain": [
       "<Figure size 576x432 with 1 Axes>"
      ]
     },
     "metadata": {
      "tags": []
     },
     "output_type": "display_data"
    }
   ],
   "source": [
    "plt.figure(figsize=(8,6))\n",
    "plt.plot(range(1, len(train_losses)+1), train_losses, label='train', linewidth=1)\n",
    "plt.plot(range(1, len(valid_losses)+1), valid_losses, label='valid', linewidth=1)\n",
    "plt.legend()\n",
    "plt.xlabel('Epochs')\n",
    "plt.ylabel('Loss')\n",
    "plt.title('Model loss')\n",
    "plt.show()"
   ]
  },
  {
   "cell_type": "code",
   "execution_count": 148,
   "metadata": {
    "colab": {
     "base_uri": "https://localhost:8080/",
     "height": 424
    },
    "colab_type": "code",
    "id": "CeqsNUxNTc6Y",
    "outputId": "406ed8b0-dd5b-45c0-b6c9-32c4eddbef5d"
   },
   "outputs": [
    {
     "data": {
      "image/png": "[encoded data removed]",
      "text/plain": [
       "<Figure size 576x432 with 1 Axes>"
      ]
     },
     "metadata": {
      "tags": []
     },
     "output_type": "display_data"
    }
   ],
   "source": [
    "plt.figure(figsize=(8,6))\n",
    "plt.plot(range(1, len(train_accuracies)+1), train_accuracies, label='train', linewidth=1)\n",
    "plt.plot(range(1, len(valid_accuracies)+1), valid_accuracies, label='valid', linewidth=1)\n",
    "plt.legend()\n",
    "plt.xlabel('Epochs')\n",
    "plt.ylabel('Accuracy')\n",
    "plt.title('Categorical Accuracy')\n",
    "plt.show()"
   ]
  },
  {
   "cell_type": "code",
   "execution_count": 149,
   "metadata": {
    "colab": {
     "base_uri": "https://localhost:8080/",
     "height": 56
    },
    "colab_type": "code",
    "id": "ykD3bUxgTfU9",
    "outputId": "7f56bc4c-c6f4-477b-8cb1-c43b4611eccd"
   },
   "outputs": [
    {
     "name": "stdout",
     "output_type": "stream",
     "text": [
      "Test Loss: 0.0724\tTest Accuracy: 0.9688\n"
     ]
    }
   ],
   "source": [
    "test_loss, test_accuracy = testModel(test_loader, criterion, False)\n",
    "print('Test Loss: {:.4f}\\tTest Accuracy: {:.4f}'.format(test_loss, test_accuracy))"
   ]
  },
  {
   "cell_type": "code",
   "execution_count": 0,
   "metadata": {
    "colab": {},
    "colab_type": "code",
    "id": "zVcIFXBvTlh8"
   },
   "outputs": [],
   "source": []
  }
 ],
 "metadata": {
  "accelerator": "GPU",
  "colab": {
   "collapsed_sections": [],
   "name": "fake_or_real_news_InferSent",
   "provenance": [],
   "toc_visible": true,
   "version": "0.3.2"
  },
  "kernelspec": {
   "display_name": "Python 3",
   "language": "python",
   "name": "python3"
  },
  "language_info": {
   "codemirror_mode": {
    "name": "ipython",
    "version": 3
   },
   "file_extension": ".py",
   "mimetype": "text/x-python",
   "name": "python",
   "nbconvert_exporter": "python",
   "pygments_lexer": "ipython3",
   "version": "3.6.8"
  }
 },
 "nbformat": 4,
 "nbformat_minor": 1
}
